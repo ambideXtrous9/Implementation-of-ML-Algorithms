{
  "cells": [
    {
      "cell_type": "markdown",
      "metadata": {
        "id": "view-in-github",
        "colab_type": "text"
      },
      "source": [
        "<a href=\"https://colab.research.google.com/github/ambideXtrous9/Machine-Learning-Assignments/blob/main/214161006_214161011_Assignment_07.ipynb\" target=\"_parent\"><img src=\"https://colab.research.google.com/assets/colab-badge.svg\" alt=\"Open In Colab\"/></a>"
      ]
    },
    {
      "cell_type": "markdown",
      "metadata": {
        "id": "r5APVNl6iaY7"
      },
      "source": [
        "# EE 527 Machine Learning Lab\n",
        "## Assignment 07\n",
        "-----------------------------------------\n",
        "214161006 Pathak Sanchit Vivekanand\n",
        "\n",
        "214161011 Sushovan Saha"
      ]
    },
    {
      "cell_type": "code",
      "execution_count": null,
      "metadata": {
        "id": "cTFPePMfihtJ"
      },
      "outputs": [],
      "source": [
        "import numpy as np\n",
        "import matplotlib.pyplot as plt\n",
        "import pandas as pd\n",
        "from sklearn.datasets import fetch_openml\n",
        "import math"
      ]
    },
    {
      "cell_type": "markdown",
      "metadata": {
        "id": "IAmSYcAsikZR"
      },
      "source": [
        "## Dataset"
      ]
    },
    {
      "cell_type": "code",
      "execution_count": null,
      "metadata": {
        "colab": {
          "base_uri": "https://localhost:8080/"
        },
        "id": "OFMP0KgEip07",
        "outputId": "84a174e2-be97-4f8d-ca16-3e6148e4d47d"
      },
      "outputs": [
        {
          "name": "stdout",
          "output_type": "stream",
          "text": [
            "dict_keys(['data', 'target', 'frame', 'categories', 'feature_names', 'target_names', 'DESCR', 'details', 'url'])\n"
          ]
        }
      ],
      "source": [
        "mnist_data = fetch_openml('mnist_784', version=1)\n",
        "print(mnist_data.keys())"
      ]
    },
    {
      "cell_type": "code",
      "execution_count": null,
      "metadata": {
        "colab": {
          "base_uri": "https://localhost:8080/"
        },
        "id": "llHOv12_jIfW",
        "outputId": "745eadc2-b4ac-4f54-e3dc-ac91ae56e7e2"
      },
      "outputs": [
        {
          "name": "stdout",
          "output_type": "stream",
          "text": [
            "5\n",
            "Shape of X: (70000, 784) \n",
            " Shape of y: (70000,)\n",
            "Shape of X_test: (1, 784) \n",
            " Shape of y: ()\n"
          ]
        }
      ],
      "source": [
        "X_train, y_train = mnist_data['data'], mnist_data['target'].to_numpy().astype(int)\n",
        "print(y_train[0])\n",
        "X_test = X_train.iloc[50002,:].to_numpy().reshape(1,-1)\n",
        "y_test = y_train[50002]\n",
        "print('Shape of X:', X_train.shape, '\\n', 'Shape of y:', y_train.shape)\n",
        "print('Shape of X_test:', X_test.shape, '\\n', 'Shape of y:', y_test.shape)"
      ]
    },
    {
      "cell_type": "code",
      "execution_count": null,
      "metadata": {
        "colab": {
          "base_uri": "https://localhost:8080/"
        },
        "id": "eZfiRGdrjZRC",
        "outputId": "5d346cbc-669a-47db-b58b-2337e70bc13f"
      },
      "outputs": [
        {
          "data": {
            "text/plain": [
              "6"
            ]
          },
          "execution_count": 4,
          "metadata": {},
          "output_type": "execute_result"
        }
      ],
      "source": [
        "y_test"
      ]
    },
    {
      "cell_type": "markdown",
      "metadata": {
        "id": "mGK_UM3HisAa"
      },
      "source": [
        "## PCA"
      ]
    },
    {
      "cell_type": "code",
      "execution_count": null,
      "metadata": {
        "id": "1oigo-7Oivjc"
      },
      "outputs": [],
      "source": [
        "def imageExtractionPCA(df,y,m=50000, d=500):\n",
        "\n",
        "    X = df.iloc[0:m].to_numpy()\n",
        "    y = y[0:m]\n",
        "       \n",
        "    #PCA\n",
        "    mu = np.mean(X,axis=0)\n",
        "    z = X-mu.T\n",
        "    C = np.cov(z.T)\n",
        "    eigenvalue, eigenvector = np.linalg.eig(C)\n",
        "    idx = eigenvalue.argsort()[::-1]   \n",
        "    eigenvalue = eigenvalue[idx]\n",
        "    eigenvector = eigenvector[:,idx]\n",
        "    Q = eigenvector[:,0:d]\n",
        "    \n",
        "    #Dimensionality Reduction Transform\n",
        "    v = np.matmul(z,Q)\n",
        "    \n",
        "    return X,y,Q,v,mu"
      ]
    },
    {
      "cell_type": "markdown",
      "metadata": {
        "id": "B1bigXz9ixUO"
      },
      "source": [
        "## K-D Tree"
      ]
    },
    {
      "cell_type": "code",
      "execution_count": null,
      "metadata": {
        "id": "hATzhuP6j9nY"
      },
      "outputs": [],
      "source": [
        "class Node:\n",
        "    def __init__(self,v,dp,y):\n",
        "        self.varmax_idx = np.argmax(np.var(v, axis = 0))\n",
        "        self.medianmax = np.median(v[:,self.varmax_idx])\n",
        "        self.data = v\n",
        "        self.label = y \n",
        "        self.depth = dp\n",
        "        self.left = None\n",
        "        self.right = None"
      ]
    },
    {
      "cell_type": "code",
      "execution_count": null,
      "metadata": {
        "id": "Uv-M9d4cizp8"
      },
      "outputs": [],
      "source": [
        "def KDTree(root,MaxDepth,LTh):\n",
        "    if root.depth == MaxDepth or root.data.shape[0] < LTh:\n",
        "        return root\n",
        "    else:\n",
        "        keep = (root.data[:,root.varmax_idx]<root.medianmax)\n",
        "        root.left =  KDTree(Node(root.data[keep,:],root.depth+1,root.label[keep]),MaxDepth,LTh)\n",
        "        root.right = KDTree(Node(root.data[~keep,:],root.depth+1,root.label[~keep]),MaxDepth,LTh)\n",
        "        return root"
      ]
    },
    {
      "cell_type": "markdown",
      "metadata": {
        "id": "15G8NzZEi1Ir"
      },
      "source": [
        "## Image Search"
      ]
    },
    {
      "cell_type": "code",
      "execution_count": null,
      "metadata": {
        "id": "J_ycybHUkApB"
      },
      "outputs": [],
      "source": [
        "def similarImgGrpSearch(root,X_test_pca):\n",
        "    #If current node is not leaf node\n",
        "    if root.left==None and root.right==None and root!=None:\n",
        "        return root.data, root.label\n",
        "    if root!=None:\n",
        "        dim = root.varmax_idx\n",
        "        med = root.medianmax\n",
        "        if X_test_pca[:,dim]<med and root.left!=None:\n",
        "            return similarImgGrpSearch(root.left, X_test_pca)\n",
        "        elif root.right!=None:\n",
        "            return similarImgGrpSearch(root.right, X_test_pca)"
      ]
    },
    {
      "cell_type": "code",
      "execution_count": null,
      "metadata": {
        "id": "Aaeb8nleho4v"
      },
      "outputs": [],
      "source": [
        "def getTopKimages(IDB,LDB,X_test,k):\n",
        "    L = []\n",
        "    for i in range(IDB.shape[0]):\n",
        "        dist = np.linalg.norm(IDB[i,:] - X_test)\n",
        "        L.append(dist)\n",
        "    L = np.array(L)\n",
        "    idxs = np.argpartition(L, k)[:k]\n",
        "    idxs = np.array(idxs)\n",
        "    dfb = pd.DataFrame(IDB)\n",
        "    dfb = dfb.iloc[idxs,:].to_numpy()\n",
        "    yb = pd.DataFrame(LDB)\n",
        "    yb = yb.iloc[idxs,:].to_numpy()\n",
        "    return dfb,yb"
      ]
    },
    {
      "cell_type": "code",
      "execution_count": null,
      "metadata": {
        "id": "Ifa--DrbkDm5"
      },
      "outputs": [],
      "source": [
        "def PCA_KDTree(X,Y,X_test,m=50000,d=500,k=169,LTh=5,depth=8):\n",
        "    X,y,Q,v,mu = imageExtractionPCA(X,Y,m,d)\n",
        "    root = Node(v,0,y)\n",
        "    root = KDTree(root,depth,LTh)\n",
        "    X_test_pca = np.matmul(X_test-mu,Q)\n",
        "    imagesInDB,labelInDB = similarImgGrpSearch(root, X_test_pca)\n",
        "    topkimg,topklbl = getTopKimages(imagesInDB,labelInDB,X_test_pca,k)\n",
        "    print(\"PRECISION = \",np.sum(topklbl==y_test)/k)"
      ]
    },
    {
      "cell_type": "markdown",
      "metadata": {
        "id": "-qHOS-T3njhL"
      },
      "source": [
        "### Target feature sub-space Dimension(d) = 500\n",
        "### K-D Tree Max Depth (depth) = 8\n",
        "### Leaf Node data No (LTh) = 200\n",
        "### Top k images = 169"
      ]
    },
    {
      "cell_type": "code",
      "execution_count": null,
      "metadata": {
        "colab": {
          "base_uri": "https://localhost:8080/"
        },
        "id": "bPfBuPY3i36d",
        "outputId": "8a6796f5-dc2c-4c82-98cd-e4a360268371"
      },
      "outputs": [
        {
          "name": "stdout",
          "output_type": "stream",
          "text": [
            "PRECISION =  0.7455621301775148\n"
          ]
        }
      ],
      "source": [
        "PCA_KDTree(X_train,y_train,X_test,50000,500,169,200,8)"
      ]
    },
    {
      "cell_type": "markdown",
      "metadata": {
        "id": "bXd7kzyonoYC"
      },
      "source": [
        "### Target feature sub-space Dimension(d) = 200\n",
        "### K-D Tree Max Depth (depth) = 5\n",
        "### Leaf Node data No (LTh) = 150\n",
        "### Top k images = 800"
      ]
    },
    {
      "cell_type": "code",
      "execution_count": null,
      "metadata": {
        "colab": {
          "base_uri": "https://localhost:8080/"
        },
        "id": "N0JP2Erwk_v_",
        "outputId": "6bd0ac6a-8bff-4008-9b53-061616cc62d7"
      },
      "outputs": [
        {
          "name": "stdout",
          "output_type": "stream",
          "text": [
            "PRECISION =  0.69125\n"
          ]
        }
      ],
      "source": [
        "PCA_KDTree(X_train,y_train,X_test,50000,200,800,150,5)"
      ]
    },
    {
      "cell_type": "markdown",
      "metadata": {
        "id": "vTI3J7K0n9gz"
      },
      "source": [
        "### Target feature sub-space Dimension(d) = 20\n",
        "### K-D Tree Max Depth (depth) = 4\n",
        "### Leaf Node data No (LTh) = 1500\n",
        "### Top k images = 300"
      ]
    },
    {
      "cell_type": "code",
      "execution_count": null,
      "metadata": {
        "colab": {
          "base_uri": "https://localhost:8080/"
        },
        "id": "gKelXnsXlL8H",
        "outputId": "ef9506c6-1386-4680-95fe-adc2a6b11149"
      },
      "outputs": [
        {
          "name": "stdout",
          "output_type": "stream",
          "text": [
            "PRECISION =  0.9833333333333333\n"
          ]
        }
      ],
      "source": [
        "PCA_KDTree(X_train,y_train,X_test,50000,20,300,1500,4)"
      ]
    },
    {
      "cell_type": "markdown",
      "metadata": {
        "id": "K20b5ZEModev"
      },
      "source": [
        "### Target feature sub-space Dimension(d) = 100\n",
        "### K-D Tree Max Depth (depth) = 10\n",
        "### Leaf Node data No (LTh) = 5\n",
        "### Top k images = 10"
      ]
    },
    {
      "cell_type": "code",
      "execution_count": null,
      "metadata": {
        "colab": {
          "base_uri": "https://localhost:8080/"
        },
        "id": "iehr2PWHlwKW",
        "outputId": "de5f803a-40c7-4586-d021-a7433edb9b27"
      },
      "outputs": [
        {
          "name": "stdout",
          "output_type": "stream",
          "text": [
            "PRECISION =  1.0\n"
          ]
        }
      ],
      "source": [
        "PCA_KDTree(X_train,y_train,X_test,50000,100,10,5,10)"
      ]
    }
  ],
  "metadata": {
    "colab": {
      "name": "214161006_214161011_Assignment_07.ipynb",
      "provenance": [],
      "include_colab_link": true
    },
    "kernelspec": {
      "display_name": "Python 3",
      "name": "python3"
    },
    "language_info": {
      "codemirror_mode": {
        "name": "ipython",
        "version": 3
      },
      "file_extension": ".py",
      "mimetype": "text/x-python",
      "name": "python",
      "nbconvert_exporter": "python",
      "pygments_lexer": "ipython3",
      "version": "3.9.6"
    }
  },
  "nbformat": 4,
  "nbformat_minor": 0
}