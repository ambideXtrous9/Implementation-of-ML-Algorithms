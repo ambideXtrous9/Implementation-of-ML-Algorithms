{
  "cells": [
    {
      "cell_type": "markdown",
      "metadata": {
        "id": "view-in-github",
        "colab_type": "text"
      },
      "source": [
        "<a href=\"https://colab.research.google.com/github/ambideXtrous9/Machine-Learning-Assignments/blob/main/214161006_214161011_Assignment_01.ipynb\" target=\"_parent\"><img src=\"https://colab.research.google.com/assets/colab-badge.svg\" alt=\"Open In Colab\"/></a>"
      ]
    },
    {
      "cell_type": "markdown",
      "metadata": {
        "id": "SpLuAT7qSHfc"
      },
      "source": [
        "# EE 527 Machine Learning Lab\n",
        "## Assignment 01: Python Basics\n",
        "-----------------------------------------\n",
        "214161006 Pathak Sanchit Vivekanand\n",
        "\n",
        "214161011 Sushovan Saha"
      ]
    },
    {
      "cell_type": "markdown",
      "metadata": {
        "id": "Ak3EHl3-iqWp"
      },
      "source": [
        " Q1. Print 'Hello World!'."
      ]
    },
    {
      "cell_type": "code",
      "execution_count": null,
      "metadata": {
        "colab": {
          "base_uri": "https://localhost:8080/"
        },
        "id": "DKQr_clrSSEF",
        "outputId": "edbd963e-996a-4452-df6d-c10e29450179"
      },
      "outputs": [
        {
          "output_type": "stream",
          "name": "stdout",
          "text": [
            "Hello World!\n"
          ]
        }
      ],
      "source": [
        "print(\"Hello World!\")"
      ]
    },
    {
      "cell_type": "markdown",
      "metadata": {
        "id": "DAZ75ylAnIYW"
      },
      "source": [
        "Q2. User input two numbers a and b. Perform the following algebraic operations c = a+b, d= a-b, e= a*b, f=a/b and g=a%b and print their results"
      ]
    },
    {
      "cell_type": "code",
      "execution_count": null,
      "metadata": {
        "colab": {
          "base_uri": "https://localhost:8080/"
        },
        "id": "tdxcbybJi2cp",
        "outputId": "cc7a4f7d-d780-419f-8019-1bbac517c5f1"
      },
      "outputs": [
        {
          "output_type": "stream",
          "name": "stdout",
          "text": [
            "ENTER VALUE OF a = 15\n",
            "ENTER VALUE OF b = 12\n",
            "\n",
            "c =  27\n",
            "d =  3\n",
            "e =  180\n",
            "f =  1.25\n",
            "g =  3\n"
          ]
        }
      ],
      "source": [
        "\n",
        "\n",
        "def algebric_opn(a,b):\n",
        "  c = a+b\n",
        "  print(\"\\nc = \",c)\n",
        "  \n",
        "  d = a-b\n",
        "  print(\"d = \",d)\n",
        "  \n",
        "  e = a*b\n",
        "  print(\"e = \",e)\n",
        "  \n",
        "  f = a/b\n",
        "  print(\"f = \",f)\n",
        "  \n",
        "  g = a%b\n",
        "  print(\"g = \",g)\n",
        "\n",
        "\n",
        "a = int(input(\"ENTER VALUE OF a = \"))\n",
        "b = int(input(\"ENTER VALUE OF b = \"))\n",
        "\n",
        "algebric_opn(a,b)"
      ]
    },
    {
      "cell_type": "markdown",
      "source": [
        "Q3. Print the factorial of a positive number 'a' given as a user input."
      ],
      "metadata": {
        "id": "WB9eWRQtnj_z"
      }
    },
    {
      "cell_type": "code",
      "execution_count": null,
      "metadata": {
        "colab": {
          "base_uri": "https://localhost:8080/"
        },
        "id": "8mL4OweamwqQ",
        "outputId": "b7ac98f4-9b25-42f8-91fb-5458dc14b56f"
      },
      "outputs": [
        {
          "name": "stdout",
          "output_type": "stream",
          "text": [
            "Enter a number: 5\n"
          ]
        },
        {
          "output_type": "execute_result",
          "data": {
            "text/plain": [
              "120"
            ]
          },
          "metadata": {},
          "execution_count": 3
        }
      ],
      "source": [
        "a = int(input(\"Enter a number: \"))\n",
        "\n",
        "def factorial(a):\n",
        "  if a==0:\n",
        "    return 1\n",
        "  else:\n",
        "    return a*factorial(a-1)\n",
        "\n",
        "factorial(a)"
      ]
    },
    {
      "cell_type": "markdown",
      "source": [
        "Q4. Write a function to print all prime numbers in an interval [a,b]. Interval is to be obtained as a user input."
      ],
      "metadata": {
        "id": "S5gVH3IInslR"
      }
    },
    {
      "cell_type": "code",
      "execution_count": null,
      "metadata": {
        "id": "mclzOz0NnGbl",
        "colab": {
          "base_uri": "https://localhost:8080/"
        },
        "outputId": "b45fbee3-d6be-400d-c12a-ec0177050add"
      },
      "outputs": [
        {
          "output_type": "stream",
          "name": "stdout",
          "text": [
            "ENTER THE NUMBER a = 4\n",
            "ENTER THE NUMBER b = 30\n",
            "5 7 11 13 17 19 23 29 \n",
            "\n"
          ]
        }
      ],
      "source": [
        "import math\n",
        "a = int(input(\"ENTER THE NUMBER a = \"))\n",
        "b = int(input(\"ENTER THE NUMBER b = \"))\n",
        "\n",
        "def isPrime(n):\n",
        "  if(n==1): return False\n",
        "  \n",
        "  t = int(math.sqrt(n))\n",
        "  \n",
        "  for i in range(2,t+1):\n",
        "      if(n%i==0): return False\n",
        "  return True\n",
        "\n",
        "def print_primes(a,b):\n",
        "  for i in range(a,b+1):\n",
        "    if(isPrime(i)): print(i,end=\" \")\n",
        "  print(\"\\n\")\n",
        "\n",
        "print_primes(a,b)    \n"
      ]
    },
    {
      "cell_type": "markdown",
      "source": [
        "Q5. User input two numbers a and b. Print their lowest common multiple (LCM)."
      ],
      "metadata": {
        "id": "A51Yj6frsYgQ"
      }
    },
    {
      "cell_type": "code",
      "source": [
        "a = int(input(\"Enter a: \"))\n",
        "b = int(input(\"Enter b: \"))\n",
        "\n",
        "def gcd(a, b):\n",
        "  if a==0:\n",
        "    return b\n",
        "  else:\n",
        "    return gcd(b%a,a)\n",
        "\n",
        "def lcm(a,b):\n",
        "  if a==b and a==0:\n",
        "    return 0\n",
        "  else:\n",
        "    return (a*b)/gcd(a,b)\n",
        "\n",
        "lcm(a,b)"
      ],
      "metadata": {
        "id": "u-s1923mrvlc",
        "colab": {
          "base_uri": "https://localhost:8080/"
        },
        "outputId": "4feb8753-4ba1-4dbd-e8c9-bf49f7d51ca3"
      },
      "execution_count": null,
      "outputs": [
        {
          "name": "stdout",
          "output_type": "stream",
          "text": [
            "Enter a: 13\n",
            "Enter b: 39\n"
          ]
        },
        {
          "output_type": "execute_result",
          "data": {
            "text/plain": [
              "39.0"
            ]
          },
          "metadata": {},
          "execution_count": 5
        }
      ]
    },
    {
      "cell_type": "markdown",
      "source": [
        "Q6. Create a list of length n = 15. Sort in descending order and print the sorted list as well as the sorted indices. Use bubble sort algorithm."
      ],
      "metadata": {
        "id": "ZMGelZHDtIv9"
      }
    },
    {
      "cell_type": "code",
      "source": [
        "import random\n",
        "nums_list = random.sample(range(0,50),15)\n",
        "nums_idx_list = list(range(0,15))\n",
        "\n",
        "print(\"Unsorted Array: \", nums_list)\n",
        "print(\"Unsorted Array Indices: \", nums_idx_list)\n",
        "\n",
        "def bubble_sort1(nums, nums_idx):\n",
        "  n = len(nums)\n",
        "  for i in range (0,n-1):\n",
        "    for j in range(0,n-i-1):\n",
        "      if nums[j+1]>nums[j]:\n",
        "        nums[j], nums[j+1] = nums[j+1], nums[j]\n",
        "        nums_idx[j], nums_idx[j+1] = nums_idx[j+1], nums_idx[j]\n",
        "\n",
        "bubble_sort1(nums_list, nums_idx_list)\n",
        "print(\"\\nReverse sorted Array: \", nums_list)\n",
        "print(\"Reverse sorted Array Indices: \", nums_idx_list)"
      ],
      "metadata": {
        "id": "HvTtzPidsfQh",
        "colab": {
          "base_uri": "https://localhost:8080/"
        },
        "outputId": "1b27a157-ebba-47e6-b620-55b9f5fdbfdb"
      },
      "execution_count": null,
      "outputs": [
        {
          "output_type": "stream",
          "name": "stdout",
          "text": [
            "Unsorted Array:  [4, 32, 22, 49, 40, 10, 20, 31, 43, 36, 18, 6, 38, 37, 23]\n",
            "Unsorted Array Indices:  [0, 1, 2, 3, 4, 5, 6, 7, 8, 9, 10, 11, 12, 13, 14]\n",
            "\n",
            "Reverse sorted Array:  [49, 43, 40, 38, 37, 36, 32, 31, 23, 22, 20, 18, 10, 6, 4]\n",
            "Reverse sorted Array Indices:  [3, 8, 4, 12, 13, 9, 1, 7, 14, 2, 6, 10, 5, 11, 0]\n"
          ]
        }
      ]
    },
    {
      "cell_type": "markdown",
      "source": [
        "Q7. Repeat the previous program for sorting in ascending order. Use numpy array instead of list."
      ],
      "metadata": {
        "id": "w8fpL8eStQGy"
      }
    },
    {
      "cell_type": "code",
      "source": [
        "from numpy import random\n",
        "import numpy as np\n",
        "\n",
        "x=random.randint(100, size=(15))\n",
        "idx=np.arange(15)  \n",
        "\n",
        "def bubble_sort_reverse(X,idx):\n",
        "  n = len(X)\n",
        "  for i in range(n-1):\n",
        "    for j in range(0,n-i-1):\n",
        "      if(X[j]>X[j+1]):\n",
        "        X[j],X[j+1] = X[j+1],X[j]\n",
        "        idx[j], idx[j+1] = idx[j+1], idx[j]\n",
        "\n",
        "\n",
        "  print(\"\\n SORTED ARRAY = \",X)\n",
        "  print(\" SORTED ARRAY INDICES = \",idx)\n",
        "\n",
        "print(\"UNSORTED ARRAY = \",x)\n",
        "print(\"UNSORTED ARRAY INDICES = \",idx)\n",
        "bubble_sort_reverse(x,idx)"
      ],
      "metadata": {
        "id": "gqdS76yhtTWJ",
        "colab": {
          "base_uri": "https://localhost:8080/"
        },
        "outputId": "2b3d4ef6-0086-4f43-c36e-22a419276965"
      },
      "execution_count": null,
      "outputs": [
        {
          "output_type": "stream",
          "name": "stdout",
          "text": [
            "UNSORTED ARRAY =  [87 31 80 44 79  5 16 84 85 80 56 17 60 71 68]\n",
            "UNSORTED ARRAY INDICES =  [ 0  1  2  3  4  5  6  7  8  9 10 11 12 13 14]\n",
            "\n",
            " SORTED ARRAY =  [ 5 16 17 31 44 56 60 68 71 79 80 80 84 85 87]\n",
            " SORTED ARRAY INDICES =  [ 5  6 11  1  3 10 12 14 13  4  2  9  7  8  0]\n"
          ]
        }
      ]
    },
    {
      "cell_type": "markdown",
      "source": [
        "Q8. Print a matrix $M ∈ R^{m×n}$ having random values in the given range [ -2, 5 ]. m and n are to be given as a user input."
      ],
      "metadata": {
        "id": "VQ5DVE2X0vc0"
      }
    },
    {
      "cell_type": "code",
      "source": [
        "\n",
        "def matrix_gen(m,n):\n",
        "  X = random.uniform(low=-2,high=5.0,size=(m,n))\n",
        "  print(\"MATRIX = \\n\",X)\n",
        "\n",
        "m = int(input(\"ENTER THE VALUE OF m = \"))\n",
        "n = int(input(\"ENTER THE VALUE OF n = \"))\n",
        "\n",
        "matrix_gen(m,n)\n"
      ],
      "metadata": {
        "id": "onZbGGwh099r",
        "colab": {
          "base_uri": "https://localhost:8080/"
        },
        "outputId": "36962137-7a67-4794-e53b-79de32330265"
      },
      "execution_count": null,
      "outputs": [
        {
          "output_type": "stream",
          "name": "stdout",
          "text": [
            "ENTER THE VALUE OF m = 5\n",
            "ENTER THE VALUE OF n = 5\n",
            "MATRIX = \n",
            " [[ 1.15303637  1.79594113  3.81701567  4.49194176  0.77068174]\n",
            " [-0.9010358   2.51844398  2.9077936   1.45305674 -0.55239451]\n",
            " [-0.93007819  0.99248358  0.21139884  3.59728667 -0.91624987]\n",
            " [ 2.35700178  3.79265254  2.16087609  3.20319731 -0.28368104]\n",
            " [ 2.86553688  4.39418168 -1.83416427 -0.64463021 -0.78016827]]\n"
          ]
        }
      ]
    },
    {
      "cell_type": "markdown",
      "source": [
        "Q9. Program to multiply two random matrices $M1 ∈ R^{m×n}$, $M2 ∈ R^{n×p}$(Don't use built-in functions). Compare the result obtained with the built-in\n",
        "function."
      ],
      "metadata": {
        "id": "s51dxyQ00_cb"
      }
    },
    {
      "cell_type": "code",
      "source": [
        "m = int(input(\"Enter m: \"))\n",
        "n = int(input(\"Enter n: \"))\n",
        "p = int(input(\"Enter p: \"))\n",
        "\n",
        "M1 = np.random.randint(50, size=(m,n))\n",
        "M2 = np.random.randint(50, size=(n,p))\n",
        "\n",
        "print(\"M1:\", M1, sep='\\n', end='\\n\\n')\n",
        "print(\"M2:\", M2, sep='\\n', end='\\n\\n')\n",
        "\n",
        "M3 = np.zeros((m,p))\n",
        "for i in range(0, m):\n",
        "  for j in range(0, p):\n",
        "    M3[i,j] = 0\n",
        "    for k in range(0, n):\n",
        "      temp = M1[i,k]*M2[k,j]\n",
        "      M3[i,j] = M3[i,j] + temp\n",
        "\n",
        "print(\"M3 using for-loop :\", M3, sep='\\n', end='\\n\\n')\n",
        "\n",
        "M4 = np.matmul(M1,M2)\n",
        "print(\"M4 using Built-in Function :\", M4, sep='\\n', end='\\n\\n')"
      ],
      "metadata": {
        "id": "pYKdQfS_1JVz",
        "colab": {
          "base_uri": "https://localhost:8080/"
        },
        "outputId": "b579980a-ee7d-41b3-929e-5e43b4428524"
      },
      "execution_count": null,
      "outputs": [
        {
          "output_type": "stream",
          "name": "stdout",
          "text": [
            "Enter m: 3\n",
            "Enter n: 4\n",
            "Enter p: 5\n",
            "M1:\n",
            "[[44 39 42 23]\n",
            " [37  7 43 23]\n",
            " [33  2 25 48]]\n",
            "\n",
            "M2:\n",
            "[[42 15 12  4  7]\n",
            " [25 43 10 10 22]\n",
            " [43 12 41 12 12]\n",
            " [22 16 20 39 26]]\n",
            "\n",
            "M3 using for-loop :\n",
            "[[5135. 3209. 3100. 1967. 2268.]\n",
            " [4084. 1740. 2737. 1631. 1527.]\n",
            " [3567. 1649. 2401. 2324. 1823.]]\n",
            "\n",
            "M4 using Built-in Function :\n",
            "[[5135 3209 3100 1967 2268]\n",
            " [4084 1740 2737 1631 1527]\n",
            " [3567 1649 2401 2324 1823]]\n",
            "\n"
          ]
        }
      ]
    },
    {
      "cell_type": "markdown",
      "source": [
        "Q10. File operations :write\n",
        "\n",
        "  (a) Generate a set of n=100 random points $X = {x_{i}}, i = 1, … n, x_{i} ∈ R^{10}$\n",
        "\n",
        "  (b) Write the points to a csv (https://en.wikipedia.org/wiki/Comma-separated_values) file"
      ],
      "metadata": {
        "id": "IC0R51gZ1Xkh"
      }
    },
    {
      "cell_type": "code",
      "source": [
        "import pandas as pd\n",
        "\n",
        "#part a\n",
        "nums_set = np.random.random(size=(10,100))\n",
        "#part b\n",
        "df1 = pd.DataFrame(nums_set)\n",
        "\n",
        "print(\"Shape of the nums_set:\", df1.shape)\n",
        "df1.to_csv(\"Q10.csv\", index=False)\n",
        "df1.head()"
      ],
      "metadata": {
        "id": "ndxc4Dad1_Ac",
        "colab": {
          "base_uri": "https://localhost:8080/",
          "height": 317
        },
        "outputId": "794914c3-b676-4eb1-dc08-b646a1c1a03b"
      },
      "execution_count": null,
      "outputs": [
        {
          "output_type": "stream",
          "name": "stdout",
          "text": [
            "Shape of the nums_set: (10, 100)\n"
          ]
        },
        {
          "output_type": "execute_result",
          "data": {
            "text/html": [
              "\n",
              "  <div id=\"df-6024bcec-8d09-45f7-96b8-2b77e407bcd8\">\n",
              "    <div class=\"colab-df-container\">\n",
              "      <div>\n",
              "<style scoped>\n",
              "    .dataframe tbody tr th:only-of-type {\n",
              "        vertical-align: middle;\n",
              "    }\n",
              "\n",
              "    .dataframe tbody tr th {\n",
              "        vertical-align: top;\n",
              "    }\n",
              "\n",
              "    .dataframe thead th {\n",
              "        text-align: right;\n",
              "    }\n",
              "</style>\n",
              "<table border=\"1\" class=\"dataframe\">\n",
              "  <thead>\n",
              "    <tr style=\"text-align: right;\">\n",
              "      <th></th>\n",
              "      <th>0</th>\n",
              "      <th>1</th>\n",
              "      <th>2</th>\n",
              "      <th>3</th>\n",
              "      <th>4</th>\n",
              "      <th>5</th>\n",
              "      <th>6</th>\n",
              "      <th>7</th>\n",
              "      <th>8</th>\n",
              "      <th>9</th>\n",
              "      <th>10</th>\n",
              "      <th>11</th>\n",
              "      <th>12</th>\n",
              "      <th>13</th>\n",
              "      <th>14</th>\n",
              "      <th>15</th>\n",
              "      <th>16</th>\n",
              "      <th>17</th>\n",
              "      <th>18</th>\n",
              "      <th>19</th>\n",
              "      <th>20</th>\n",
              "      <th>21</th>\n",
              "      <th>22</th>\n",
              "      <th>23</th>\n",
              "      <th>24</th>\n",
              "      <th>25</th>\n",
              "      <th>26</th>\n",
              "      <th>27</th>\n",
              "      <th>28</th>\n",
              "      <th>29</th>\n",
              "      <th>30</th>\n",
              "      <th>31</th>\n",
              "      <th>32</th>\n",
              "      <th>33</th>\n",
              "      <th>34</th>\n",
              "      <th>35</th>\n",
              "      <th>36</th>\n",
              "      <th>37</th>\n",
              "      <th>38</th>\n",
              "      <th>39</th>\n",
              "      <th>...</th>\n",
              "      <th>60</th>\n",
              "      <th>61</th>\n",
              "      <th>62</th>\n",
              "      <th>63</th>\n",
              "      <th>64</th>\n",
              "      <th>65</th>\n",
              "      <th>66</th>\n",
              "      <th>67</th>\n",
              "      <th>68</th>\n",
              "      <th>69</th>\n",
              "      <th>70</th>\n",
              "      <th>71</th>\n",
              "      <th>72</th>\n",
              "      <th>73</th>\n",
              "      <th>74</th>\n",
              "      <th>75</th>\n",
              "      <th>76</th>\n",
              "      <th>77</th>\n",
              "      <th>78</th>\n",
              "      <th>79</th>\n",
              "      <th>80</th>\n",
              "      <th>81</th>\n",
              "      <th>82</th>\n",
              "      <th>83</th>\n",
              "      <th>84</th>\n",
              "      <th>85</th>\n",
              "      <th>86</th>\n",
              "      <th>87</th>\n",
              "      <th>88</th>\n",
              "      <th>89</th>\n",
              "      <th>90</th>\n",
              "      <th>91</th>\n",
              "      <th>92</th>\n",
              "      <th>93</th>\n",
              "      <th>94</th>\n",
              "      <th>95</th>\n",
              "      <th>96</th>\n",
              "      <th>97</th>\n",
              "      <th>98</th>\n",
              "      <th>99</th>\n",
              "    </tr>\n",
              "  </thead>\n",
              "  <tbody>\n",
              "    <tr>\n",
              "      <th>0</th>\n",
              "      <td>0.416969</td>\n",
              "      <td>0.576453</td>\n",
              "      <td>0.597537</td>\n",
              "      <td>0.720502</td>\n",
              "      <td>0.454189</td>\n",
              "      <td>0.805887</td>\n",
              "      <td>0.622344</td>\n",
              "      <td>0.202339</td>\n",
              "      <td>0.816668</td>\n",
              "      <td>0.058449</td>\n",
              "      <td>0.682359</td>\n",
              "      <td>0.712603</td>\n",
              "      <td>0.392269</td>\n",
              "      <td>0.342318</td>\n",
              "      <td>0.327548</td>\n",
              "      <td>0.474981</td>\n",
              "      <td>0.729947</td>\n",
              "      <td>0.771457</td>\n",
              "      <td>0.160216</td>\n",
              "      <td>0.400635</td>\n",
              "      <td>0.242775</td>\n",
              "      <td>0.130944</td>\n",
              "      <td>0.541587</td>\n",
              "      <td>0.590295</td>\n",
              "      <td>0.400487</td>\n",
              "      <td>0.580302</td>\n",
              "      <td>0.147512</td>\n",
              "      <td>0.143730</td>\n",
              "      <td>0.715235</td>\n",
              "      <td>0.930785</td>\n",
              "      <td>0.838157</td>\n",
              "      <td>0.083484</td>\n",
              "      <td>0.739974</td>\n",
              "      <td>0.829352</td>\n",
              "      <td>0.067303</td>\n",
              "      <td>0.381861</td>\n",
              "      <td>0.708237</td>\n",
              "      <td>0.080652</td>\n",
              "      <td>0.827442</td>\n",
              "      <td>0.938557</td>\n",
              "      <td>...</td>\n",
              "      <td>0.365782</td>\n",
              "      <td>0.366344</td>\n",
              "      <td>0.350192</td>\n",
              "      <td>0.459295</td>\n",
              "      <td>0.269488</td>\n",
              "      <td>0.746525</td>\n",
              "      <td>0.483208</td>\n",
              "      <td>0.665513</td>\n",
              "      <td>0.542393</td>\n",
              "      <td>0.020508</td>\n",
              "      <td>0.195001</td>\n",
              "      <td>0.920453</td>\n",
              "      <td>0.536799</td>\n",
              "      <td>0.825458</td>\n",
              "      <td>0.406409</td>\n",
              "      <td>0.703027</td>\n",
              "      <td>0.600251</td>\n",
              "      <td>0.534291</td>\n",
              "      <td>0.193815</td>\n",
              "      <td>0.818478</td>\n",
              "      <td>0.699153</td>\n",
              "      <td>0.612092</td>\n",
              "      <td>0.612982</td>\n",
              "      <td>0.776388</td>\n",
              "      <td>0.449134</td>\n",
              "      <td>0.468642</td>\n",
              "      <td>0.532408</td>\n",
              "      <td>0.484674</td>\n",
              "      <td>0.206493</td>\n",
              "      <td>0.794235</td>\n",
              "      <td>0.115213</td>\n",
              "      <td>0.612816</td>\n",
              "      <td>0.722541</td>\n",
              "      <td>0.433095</td>\n",
              "      <td>0.074950</td>\n",
              "      <td>0.216018</td>\n",
              "      <td>0.649284</td>\n",
              "      <td>0.589384</td>\n",
              "      <td>0.371060</td>\n",
              "      <td>0.190239</td>\n",
              "    </tr>\n",
              "    <tr>\n",
              "      <th>1</th>\n",
              "      <td>0.653716</td>\n",
              "      <td>0.331009</td>\n",
              "      <td>0.608300</td>\n",
              "      <td>0.435836</td>\n",
              "      <td>0.289481</td>\n",
              "      <td>0.636423</td>\n",
              "      <td>0.137153</td>\n",
              "      <td>0.598022</td>\n",
              "      <td>0.397824</td>\n",
              "      <td>0.042781</td>\n",
              "      <td>0.839229</td>\n",
              "      <td>0.642683</td>\n",
              "      <td>0.687132</td>\n",
              "      <td>0.365773</td>\n",
              "      <td>0.680580</td>\n",
              "      <td>0.712222</td>\n",
              "      <td>0.044943</td>\n",
              "      <td>0.820440</td>\n",
              "      <td>0.456538</td>\n",
              "      <td>0.772274</td>\n",
              "      <td>0.983389</td>\n",
              "      <td>0.725458</td>\n",
              "      <td>0.070184</td>\n",
              "      <td>0.930082</td>\n",
              "      <td>0.227200</td>\n",
              "      <td>0.705831</td>\n",
              "      <td>0.456921</td>\n",
              "      <td>0.259193</td>\n",
              "      <td>0.322189</td>\n",
              "      <td>0.672207</td>\n",
              "      <td>0.505809</td>\n",
              "      <td>0.019474</td>\n",
              "      <td>0.088638</td>\n",
              "      <td>0.247362</td>\n",
              "      <td>0.974958</td>\n",
              "      <td>0.679805</td>\n",
              "      <td>0.831484</td>\n",
              "      <td>0.697942</td>\n",
              "      <td>0.734063</td>\n",
              "      <td>0.355760</td>\n",
              "      <td>...</td>\n",
              "      <td>0.593265</td>\n",
              "      <td>0.488004</td>\n",
              "      <td>0.452472</td>\n",
              "      <td>0.671036</td>\n",
              "      <td>0.596592</td>\n",
              "      <td>0.472286</td>\n",
              "      <td>0.343156</td>\n",
              "      <td>0.027030</td>\n",
              "      <td>0.036047</td>\n",
              "      <td>0.177787</td>\n",
              "      <td>0.889026</td>\n",
              "      <td>0.611914</td>\n",
              "      <td>0.133377</td>\n",
              "      <td>0.411686</td>\n",
              "      <td>0.713922</td>\n",
              "      <td>0.247334</td>\n",
              "      <td>0.375424</td>\n",
              "      <td>0.279987</td>\n",
              "      <td>0.394071</td>\n",
              "      <td>0.963743</td>\n",
              "      <td>0.186622</td>\n",
              "      <td>0.152308</td>\n",
              "      <td>0.424502</td>\n",
              "      <td>0.761264</td>\n",
              "      <td>0.065700</td>\n",
              "      <td>0.039381</td>\n",
              "      <td>0.249405</td>\n",
              "      <td>0.412334</td>\n",
              "      <td>0.436846</td>\n",
              "      <td>0.223457</td>\n",
              "      <td>0.512781</td>\n",
              "      <td>0.670265</td>\n",
              "      <td>0.630367</td>\n",
              "      <td>0.673646</td>\n",
              "      <td>0.003434</td>\n",
              "      <td>0.551224</td>\n",
              "      <td>0.747817</td>\n",
              "      <td>0.859194</td>\n",
              "      <td>0.534735</td>\n",
              "      <td>0.364342</td>\n",
              "    </tr>\n",
              "    <tr>\n",
              "      <th>2</th>\n",
              "      <td>0.213511</td>\n",
              "      <td>0.281083</td>\n",
              "      <td>0.521906</td>\n",
              "      <td>0.976823</td>\n",
              "      <td>0.486472</td>\n",
              "      <td>0.995330</td>\n",
              "      <td>0.246629</td>\n",
              "      <td>0.651045</td>\n",
              "      <td>0.899142</td>\n",
              "      <td>0.185082</td>\n",
              "      <td>0.388794</td>\n",
              "      <td>0.753286</td>\n",
              "      <td>0.541164</td>\n",
              "      <td>0.723696</td>\n",
              "      <td>0.658415</td>\n",
              "      <td>0.288643</td>\n",
              "      <td>0.876179</td>\n",
              "      <td>0.106366</td>\n",
              "      <td>0.744049</td>\n",
              "      <td>0.863795</td>\n",
              "      <td>0.633631</td>\n",
              "      <td>0.397648</td>\n",
              "      <td>0.810109</td>\n",
              "      <td>0.878430</td>\n",
              "      <td>0.353756</td>\n",
              "      <td>0.171556</td>\n",
              "      <td>0.037403</td>\n",
              "      <td>0.366120</td>\n",
              "      <td>0.053422</td>\n",
              "      <td>0.421037</td>\n",
              "      <td>0.248759</td>\n",
              "      <td>0.570864</td>\n",
              "      <td>0.072561</td>\n",
              "      <td>0.922395</td>\n",
              "      <td>0.102568</td>\n",
              "      <td>0.695858</td>\n",
              "      <td>0.454227</td>\n",
              "      <td>0.136794</td>\n",
              "      <td>0.919734</td>\n",
              "      <td>0.432791</td>\n",
              "      <td>...</td>\n",
              "      <td>0.186296</td>\n",
              "      <td>0.300917</td>\n",
              "      <td>0.606912</td>\n",
              "      <td>0.087521</td>\n",
              "      <td>0.402849</td>\n",
              "      <td>0.524784</td>\n",
              "      <td>0.997280</td>\n",
              "      <td>0.923058</td>\n",
              "      <td>0.548378</td>\n",
              "      <td>0.964286</td>\n",
              "      <td>0.179679</td>\n",
              "      <td>0.691536</td>\n",
              "      <td>0.814105</td>\n",
              "      <td>0.019715</td>\n",
              "      <td>0.970550</td>\n",
              "      <td>0.279049</td>\n",
              "      <td>0.826301</td>\n",
              "      <td>0.719813</td>\n",
              "      <td>0.963360</td>\n",
              "      <td>0.187929</td>\n",
              "      <td>0.549268</td>\n",
              "      <td>0.600650</td>\n",
              "      <td>0.019084</td>\n",
              "      <td>0.754928</td>\n",
              "      <td>0.286530</td>\n",
              "      <td>0.329684</td>\n",
              "      <td>0.009250</td>\n",
              "      <td>0.824574</td>\n",
              "      <td>0.092857</td>\n",
              "      <td>0.878579</td>\n",
              "      <td>0.809541</td>\n",
              "      <td>0.884177</td>\n",
              "      <td>0.331619</td>\n",
              "      <td>0.244661</td>\n",
              "      <td>0.894092</td>\n",
              "      <td>0.414653</td>\n",
              "      <td>0.881912</td>\n",
              "      <td>0.425998</td>\n",
              "      <td>0.994039</td>\n",
              "      <td>0.573632</td>\n",
              "    </tr>\n",
              "    <tr>\n",
              "      <th>3</th>\n",
              "      <td>0.004854</td>\n",
              "      <td>0.308309</td>\n",
              "      <td>0.042697</td>\n",
              "      <td>0.632424</td>\n",
              "      <td>0.193234</td>\n",
              "      <td>0.459280</td>\n",
              "      <td>0.146290</td>\n",
              "      <td>0.443638</td>\n",
              "      <td>0.537967</td>\n",
              "      <td>0.316027</td>\n",
              "      <td>0.464014</td>\n",
              "      <td>0.160818</td>\n",
              "      <td>0.947900</td>\n",
              "      <td>0.928947</td>\n",
              "      <td>0.209472</td>\n",
              "      <td>0.382604</td>\n",
              "      <td>0.808814</td>\n",
              "      <td>0.190152</td>\n",
              "      <td>0.082783</td>\n",
              "      <td>0.521234</td>\n",
              "      <td>0.986520</td>\n",
              "      <td>0.376789</td>\n",
              "      <td>0.993219</td>\n",
              "      <td>0.393460</td>\n",
              "      <td>0.373012</td>\n",
              "      <td>0.836223</td>\n",
              "      <td>0.857971</td>\n",
              "      <td>0.925095</td>\n",
              "      <td>0.357968</td>\n",
              "      <td>0.636500</td>\n",
              "      <td>0.263429</td>\n",
              "      <td>0.797444</td>\n",
              "      <td>0.408856</td>\n",
              "      <td>0.438604</td>\n",
              "      <td>0.044736</td>\n",
              "      <td>0.803328</td>\n",
              "      <td>0.661350</td>\n",
              "      <td>0.201757</td>\n",
              "      <td>0.647829</td>\n",
              "      <td>0.477552</td>\n",
              "      <td>...</td>\n",
              "      <td>0.061461</td>\n",
              "      <td>0.968605</td>\n",
              "      <td>0.077317</td>\n",
              "      <td>0.207114</td>\n",
              "      <td>0.745277</td>\n",
              "      <td>0.886737</td>\n",
              "      <td>0.593650</td>\n",
              "      <td>0.937747</td>\n",
              "      <td>0.046458</td>\n",
              "      <td>0.980754</td>\n",
              "      <td>0.313526</td>\n",
              "      <td>0.236241</td>\n",
              "      <td>0.548567</td>\n",
              "      <td>0.298660</td>\n",
              "      <td>0.512623</td>\n",
              "      <td>0.451475</td>\n",
              "      <td>0.549912</td>\n",
              "      <td>0.302172</td>\n",
              "      <td>0.319941</td>\n",
              "      <td>0.274329</td>\n",
              "      <td>0.275257</td>\n",
              "      <td>0.717127</td>\n",
              "      <td>0.153522</td>\n",
              "      <td>0.340922</td>\n",
              "      <td>0.491023</td>\n",
              "      <td>0.422819</td>\n",
              "      <td>0.850764</td>\n",
              "      <td>0.624848</td>\n",
              "      <td>0.121211</td>\n",
              "      <td>0.542459</td>\n",
              "      <td>0.548774</td>\n",
              "      <td>0.306741</td>\n",
              "      <td>0.991709</td>\n",
              "      <td>0.806961</td>\n",
              "      <td>0.905390</td>\n",
              "      <td>0.415451</td>\n",
              "      <td>0.809271</td>\n",
              "      <td>0.403966</td>\n",
              "      <td>0.941492</td>\n",
              "      <td>0.506453</td>\n",
              "    </tr>\n",
              "    <tr>\n",
              "      <th>4</th>\n",
              "      <td>0.988020</td>\n",
              "      <td>0.790750</td>\n",
              "      <td>0.774783</td>\n",
              "      <td>0.993455</td>\n",
              "      <td>0.529059</td>\n",
              "      <td>0.689446</td>\n",
              "      <td>0.437177</td>\n",
              "      <td>0.355782</td>\n",
              "      <td>0.847887</td>\n",
              "      <td>0.701294</td>\n",
              "      <td>0.561584</td>\n",
              "      <td>0.347374</td>\n",
              "      <td>0.727496</td>\n",
              "      <td>0.152830</td>\n",
              "      <td>0.413677</td>\n",
              "      <td>0.466694</td>\n",
              "      <td>0.943430</td>\n",
              "      <td>0.480861</td>\n",
              "      <td>0.193807</td>\n",
              "      <td>0.773236</td>\n",
              "      <td>0.316621</td>\n",
              "      <td>0.733645</td>\n",
              "      <td>0.111383</td>\n",
              "      <td>0.797199</td>\n",
              "      <td>0.000654</td>\n",
              "      <td>0.011645</td>\n",
              "      <td>0.805879</td>\n",
              "      <td>0.168114</td>\n",
              "      <td>0.921624</td>\n",
              "      <td>0.372717</td>\n",
              "      <td>0.874979</td>\n",
              "      <td>0.007749</td>\n",
              "      <td>0.723496</td>\n",
              "      <td>0.956541</td>\n",
              "      <td>0.514749</td>\n",
              "      <td>0.622945</td>\n",
              "      <td>0.949074</td>\n",
              "      <td>0.056275</td>\n",
              "      <td>0.386862</td>\n",
              "      <td>0.955861</td>\n",
              "      <td>...</td>\n",
              "      <td>0.190700</td>\n",
              "      <td>0.873432</td>\n",
              "      <td>0.831864</td>\n",
              "      <td>0.316269</td>\n",
              "      <td>0.712359</td>\n",
              "      <td>0.704961</td>\n",
              "      <td>0.875100</td>\n",
              "      <td>0.243447</td>\n",
              "      <td>0.126560</td>\n",
              "      <td>0.225160</td>\n",
              "      <td>0.284314</td>\n",
              "      <td>0.372455</td>\n",
              "      <td>0.580774</td>\n",
              "      <td>0.181072</td>\n",
              "      <td>0.619974</td>\n",
              "      <td>0.609006</td>\n",
              "      <td>0.151187</td>\n",
              "      <td>0.500541</td>\n",
              "      <td>0.429875</td>\n",
              "      <td>0.212450</td>\n",
              "      <td>0.685508</td>\n",
              "      <td>0.499145</td>\n",
              "      <td>0.848772</td>\n",
              "      <td>0.109378</td>\n",
              "      <td>0.326694</td>\n",
              "      <td>0.071251</td>\n",
              "      <td>0.243710</td>\n",
              "      <td>0.442626</td>\n",
              "      <td>0.008344</td>\n",
              "      <td>0.843496</td>\n",
              "      <td>0.325084</td>\n",
              "      <td>0.079742</td>\n",
              "      <td>0.970361</td>\n",
              "      <td>0.987951</td>\n",
              "      <td>0.151267</td>\n",
              "      <td>0.345527</td>\n",
              "      <td>0.786956</td>\n",
              "      <td>0.857297</td>\n",
              "      <td>0.546531</td>\n",
              "      <td>0.691364</td>\n",
              "    </tr>\n",
              "  </tbody>\n",
              "</table>\n",
              "<p>5 rows × 100 columns</p>\n",
              "</div>\n",
              "      <button class=\"colab-df-convert\" onclick=\"convertToInteractive('df-6024bcec-8d09-45f7-96b8-2b77e407bcd8')\"\n",
              "              title=\"Convert this dataframe to an interactive table.\"\n",
              "              style=\"display:none;\">\n",
              "        \n",
              "  <svg xmlns=\"http://www.w3.org/2000/svg\" height=\"24px\"viewBox=\"0 0 24 24\"\n",
              "       width=\"24px\">\n",
              "    <path d=\"M0 0h24v24H0V0z\" fill=\"none\"/>\n",
              "    <path d=\"M18.56 5.44l.94 2.06.94-2.06 2.06-.94-2.06-.94-.94-2.06-.94 2.06-2.06.94zm-11 1L8.5 8.5l.94-2.06 2.06-.94-2.06-.94L8.5 2.5l-.94 2.06-2.06.94zm10 10l.94 2.06.94-2.06 2.06-.94-2.06-.94-.94-2.06-.94 2.06-2.06.94z\"/><path d=\"M17.41 7.96l-1.37-1.37c-.4-.4-.92-.59-1.43-.59-.52 0-1.04.2-1.43.59L10.3 9.45l-7.72 7.72c-.78.78-.78 2.05 0 2.83L4 21.41c.39.39.9.59 1.41.59.51 0 1.02-.2 1.41-.59l7.78-7.78 2.81-2.81c.8-.78.8-2.07 0-2.86zM5.41 20L4 18.59l7.72-7.72 1.47 1.35L5.41 20z\"/>\n",
              "  </svg>\n",
              "      </button>\n",
              "      \n",
              "  <style>\n",
              "    .colab-df-container {\n",
              "      display:flex;\n",
              "      flex-wrap:wrap;\n",
              "      gap: 12px;\n",
              "    }\n",
              "\n",
              "    .colab-df-convert {\n",
              "      background-color: #E8F0FE;\n",
              "      border: none;\n",
              "      border-radius: 50%;\n",
              "      cursor: pointer;\n",
              "      display: none;\n",
              "      fill: #1967D2;\n",
              "      height: 32px;\n",
              "      padding: 0 0 0 0;\n",
              "      width: 32px;\n",
              "    }\n",
              "\n",
              "    .colab-df-convert:hover {\n",
              "      background-color: #E2EBFA;\n",
              "      box-shadow: 0px 1px 2px rgba(60, 64, 67, 0.3), 0px 1px 3px 1px rgba(60, 64, 67, 0.15);\n",
              "      fill: #174EA6;\n",
              "    }\n",
              "\n",
              "    [theme=dark] .colab-df-convert {\n",
              "      background-color: #3B4455;\n",
              "      fill: #D2E3FC;\n",
              "    }\n",
              "\n",
              "    [theme=dark] .colab-df-convert:hover {\n",
              "      background-color: #434B5C;\n",
              "      box-shadow: 0px 1px 3px 1px rgba(0, 0, 0, 0.15);\n",
              "      filter: drop-shadow(0px 1px 2px rgba(0, 0, 0, 0.3));\n",
              "      fill: #FFFFFF;\n",
              "    }\n",
              "  </style>\n",
              "\n",
              "      <script>\n",
              "        const buttonEl =\n",
              "          document.querySelector('#df-6024bcec-8d09-45f7-96b8-2b77e407bcd8 button.colab-df-convert');\n",
              "        buttonEl.style.display =\n",
              "          google.colab.kernel.accessAllowed ? 'block' : 'none';\n",
              "\n",
              "        async function convertToInteractive(key) {\n",
              "          const element = document.querySelector('#df-6024bcec-8d09-45f7-96b8-2b77e407bcd8');\n",
              "          const dataTable =\n",
              "            await google.colab.kernel.invokeFunction('convertToInteractive',\n",
              "                                                     [key], {});\n",
              "          if (!dataTable) return;\n",
              "\n",
              "          const docLinkHtml = 'Like what you see? Visit the ' +\n",
              "            '<a target=\"_blank\" href=https://colab.research.google.com/notebooks/data_table.ipynb>data table notebook</a>'\n",
              "            + ' to learn more about interactive tables.';\n",
              "          element.innerHTML = '';\n",
              "          dataTable['output_type'] = 'display_data';\n",
              "          await google.colab.output.renderOutput(dataTable, element);\n",
              "          const docLink = document.createElement('div');\n",
              "          docLink.innerHTML = docLinkHtml;\n",
              "          element.appendChild(docLink);\n",
              "        }\n",
              "      </script>\n",
              "    </div>\n",
              "  </div>\n",
              "  "
            ],
            "text/plain": [
              "         0         1         2   ...        97        98        99\n",
              "0  0.416969  0.576453  0.597537  ...  0.589384  0.371060  0.190239\n",
              "1  0.653716  0.331009  0.608300  ...  0.859194  0.534735  0.364342\n",
              "2  0.213511  0.281083  0.521906  ...  0.425998  0.994039  0.573632\n",
              "3  0.004854  0.308309  0.042697  ...  0.403966  0.941492  0.506453\n",
              "4  0.988020  0.790750  0.774783  ...  0.857297  0.546531  0.691364\n",
              "\n",
              "[5 rows x 100 columns]"
            ]
          },
          "metadata": {},
          "execution_count": 20
        }
      ]
    },
    {
      "cell_type": "markdown",
      "source": [
        "Q11. File operations:read\n",
        "\n",
        "(a) Read the csv (https://en.wikipedia.org/wiki/Comma-separated_values) file generated in the previous program to a matrix. Each column of the matrix should represent a vector\n",
        "\n",
        "(b) Compute the following: $c = 1/n \\sum^{n}_{i=1} (x_{i}-\\mu)(x_{i}-\\mu)^{T}$, where $\\mu=1/n \\sum^{n}_{i=1} x_{i}, i=1,...,n, x_{i} = [x_{i1},...x_{i10}]^{T}$ is a column vector"
      ],
      "metadata": {
        "id": "15D7-fLDEPN5"
      }
    },
    {
      "cell_type": "code",
      "source": [
        "df2 = pd.read_csv(\"Q10.csv\")\n",
        "\n",
        "#computing mu\n",
        "mu = np.divide(df2.sum(axis=1).to_numpy(),100)\n",
        "\n",
        "#computing c\n",
        "diff = df2.sub(mu, axis=0)\n",
        "diff = diff.to_numpy()\n",
        "c = np.array([np.matmul(diff[:,i].reshape(-1,1), diff[:,i].reshape(-1,1).T) for i in range(100)])\n",
        "c = c.sum(axis=0)\n",
        "c = np.divide(c,100)\n",
        "print(\"mu = \", mu, sep='\\n', end='\\n\\n') #mean\n",
        "print(\"c = \", c, sep='\\n') #covariance matrix"
      ],
      "metadata": {
        "colab": {
          "base_uri": "https://localhost:8080/"
        },
        "id": "ZgFvA-q-B-8C",
        "outputId": "8f3e10e9-6448-4c56-90b5-efdb8fd19f48"
      },
      "execution_count": null,
      "outputs": [
        {
          "output_type": "stream",
          "name": "stdout",
          "text": [
            "mu = \n",
            "[0.49481101 0.4869535  0.51572043 0.48894553 0.52094795 0.51066533\n",
            " 0.54039124 0.54359333 0.49744189 0.53971577]\n",
            "\n",
            "c = \n",
            "[[ 0.07274941  0.00234513 -0.00393673 -0.00491905  0.01527342  0.01034018\n",
            "   0.00045736 -0.00262176 -0.00520945 -0.00790918]\n",
            " [ 0.00234513  0.07485079 -0.00511603 -0.01403846  0.00967685  0.01406446\n",
            "   0.00767813 -0.0043468  -0.00102424 -0.00544103]\n",
            " [-0.00393673 -0.00511603  0.10076898  0.01836412  0.00631683  0.00060153\n",
            "  -0.00341753 -0.00162773 -0.00671505 -0.00052938]\n",
            " [-0.00491905 -0.01403846  0.01836412  0.07770579  0.00171359 -0.00614824\n",
            "   0.0127639  -0.01058306 -0.00575221 -0.00032244]\n",
            " [ 0.01527342  0.00967685  0.00631683  0.00171359  0.08988498 -0.00833897\n",
            "  -0.01160664  0.00172423 -0.00452565  0.00357225]\n",
            " [ 0.01034018  0.01406446  0.00060153 -0.00614824 -0.00833897  0.09067944\n",
            "  -0.00864318 -0.00730683 -0.00339346 -0.00555272]\n",
            " [ 0.00045736  0.00767813 -0.00341753  0.0127639  -0.01160664 -0.00864318\n",
            "   0.08082118  0.01358295  0.01025573  0.00670214]\n",
            " [-0.00262176 -0.0043468  -0.00162773 -0.01058306  0.00172423 -0.00730683\n",
            "   0.01358295  0.0753955  -0.00262762 -0.00543378]\n",
            " [-0.00520945 -0.00102424 -0.00671505 -0.00575221 -0.00452565 -0.00339346\n",
            "   0.01025573 -0.00262762  0.08812005 -0.00135545]\n",
            " [-0.00790918 -0.00544103 -0.00052938 -0.00032244  0.00357225 -0.00555272\n",
            "   0.00670214 -0.00543378 -0.00135545  0.06991427]]\n"
          ]
        }
      ]
    },
    {
      "cell_type": "markdown",
      "source": [
        "Q12. Define a class for a complex number a + jb. Define memeber functions to do basic operations conjugate, absolute value, addition, subtraction, multiplication, division and angle.\n",
        "\n",
        "Define two complex numbers c1, c2 and print the results of the following operations $c1 + c2, c1 − c2, c1 ∗ c2, c1/c2 , |c1|, |c2|,∠c1, ∠c2$."
      ],
      "metadata": {
        "id": "Q-Dve_M9Tu-p"
      }
    },
    {
      "cell_type": "code",
      "source": [
        "from math import sqrt,degrees,atan\n",
        "class Complex :\n",
        "    def __init__ (self, real, imag=0.0):\n",
        "        self.real = real\n",
        "        self.imag = imag \n",
        "        print(self.real + self.imag)\n",
        "\n",
        "    def __add__(self, other):\n",
        "        print(\"\\nADDITION : \")\n",
        "        return Complex(self.real + other.real, self.imag + other.imag)\n",
        "        \n",
        "    def __sub__(self, other):\n",
        "        print(\"\\nSUBTRACTION : \")\n",
        "        return Complex(self.real - other.real, self.imag - other.imag)\n",
        "    \n",
        "    def __mul__(self, other):\n",
        "        print(\"\\nMULTIPLICATION : \")\n",
        "        return Complex(((self.real * other.real) - (self.imag * other.imag)),\n",
        "            ((self.imag * other.real) + (self.real * other.imag)))\n",
        "    \n",
        "    def __truediv__(self, other):\n",
        "        print(\"\\n-----------DIVISION----------------\")\n",
        "        res = self * other\n",
        "        divisor = (other.real**2 + other.imag**2)\n",
        "        print(\"DIVISOR = \",divisor.real)\n",
        "        print(\"RESULT = MULT/DIVISOR \")\n",
        "        print(\"DIVISION = \")\n",
        "        return Complex(res.real/divisor,res.imag/divisor)\n",
        "        \n",
        "    def __abs__(self):\n",
        "        print(\"\\nABSOLUTE VALUE : \")\n",
        "        new = (self.real**2 + (self.imag**2)*-1)\n",
        "        return Complex(sqrt(new.real))\n",
        "        \n",
        "    def angle(self):\n",
        "        print(\"\\nANGLE : \")\n",
        "        ratio = self.imag/self.real\n",
        "        res = degrees(atan(ratio.imag))\n",
        "        return Complex(res)\n",
        "\n",
        "    def conjugate(self):\n",
        "        print(\"\\nCONJUGATE : \")\n",
        "        return Complex(self.real,(-1)*self.imag)\n",
        "\n",
        "        \n",
        "        \n",
        "c1 = Complex(5, 20j)\n",
        "c2 = Complex(2, 10j)\n",
        "\n",
        "# Add\n",
        "c1 + c2\n",
        "# Subtract\n",
        "c1 - c2\n",
        "# Multiply\n",
        "c1 * c2\n",
        "# Divide\n",
        "c1 / c2\n",
        "print(\"------------------------------\")\n",
        "# Absolute value\n",
        "abs(c1)\n",
        "abs(c2)\n",
        "\n",
        "# Angle\n",
        "c1.angle()\n",
        "c2.angle()\n",
        "\n",
        "# Conjugate\n",
        "c1.conjugate()\n",
        "c2.conjugate()"
      ],
      "metadata": {
        "id": "BTRi9iqOJ_Lc",
        "colab": {
          "base_uri": "https://localhost:8080/"
        },
        "outputId": "17108742-d99a-4d05-cb73-055a2dd7de40"
      },
      "execution_count": null,
      "outputs": [
        {
          "output_type": "stream",
          "name": "stdout",
          "text": [
            "(5+20j)\n",
            "(2+10j)\n",
            "\n",
            "ADDITION : \n",
            "(7+30j)\n",
            "\n",
            "SUBTRACTION : \n",
            "(3+10j)\n",
            "\n",
            "MULTIPLICATION : \n",
            "(210+90j)\n",
            "\n",
            "-----------DIVISION----------------\n",
            "\n",
            "MULTIPLICATION : \n",
            "(210+90j)\n",
            "DIVISOR =  -96.0\n",
            "RESULT = MULT/DIVISOR \n",
            "DIVISION = \n",
            "(-2.1875-0.9375j)\n",
            "------------------------------\n",
            "\n",
            "ABSOLUTE VALUE : \n",
            "20.615528128088304\n",
            "\n",
            "ABSOLUTE VALUE : \n",
            "10.198039027185569\n",
            "\n",
            "ANGLE : \n",
            "75.96375653207353\n",
            "\n",
            "ANGLE : \n",
            "78.69006752597979\n",
            "\n",
            "CONJUGATE : \n",
            "(5-20j)\n",
            "\n",
            "CONJUGATE : \n",
            "(2-10j)\n"
          ]
        },
        {
          "output_type": "execute_result",
          "data": {
            "text/plain": [
              "<__main__.Complex at 0x7f630f5b5a10>"
            ]
          },
          "metadata": {},
          "execution_count": 36
        }
      ]
    },
    {
      "cell_type": "markdown",
      "source": [
        "Q13. Plot the function $y = 3x + 2$ with $x ∈ [−10, 10]$."
      ],
      "metadata": {
        "id": "zSCZk_KsUL2V"
      }
    },
    {
      "cell_type": "code",
      "source": [
        "import matplotlib.pyplot as plt\n",
        "import numpy as np\n",
        "\n",
        "x = np.linspace(-10,10,100)\n",
        "y = 3*x + 2\n",
        "\n",
        "plt.plot(x, y, \"-r\", label=\"y = 3x+2\")\n",
        "plt.title(\"Graph of y=3x+2\")\n",
        "plt.xlabel('x')\n",
        "plt.ylabel('y')\n",
        "plt.legend(loc='upper left')\n",
        "plt.grid()\n",
        "plt.show()\n"
      ],
      "metadata": {
        "colab": {
          "base_uri": "https://localhost:8080/",
          "height": 295
        },
        "id": "mLuFkW57xgih",
        "outputId": "48aff112-84f8-42e4-bbee-41ade552f187"
      },
      "execution_count": null,
      "outputs": [
        {
          "output_type": "display_data",
          "data": {
            "image/png": "[encoded data removed]",
            "text/plain": [
              "<Figure size 432x288 with 1 Axes>"
            ]
          },
          "metadata": {
            "needs_background": "light"
          }
        }
      ]
    },
    {
      "cell_type": "markdown",
      "source": [
        "Q14. Scatter plot:\n",
        "\n",
        "(a) Generate a set of n=100 points, $X={x_{i}}, i=1,...,n, x_{i} ϵ R^{2}$ within an ellipse $\\frac{(x-\\mu_{x})^{2}}{a^{2}} + \\frac{(y-\\mu_{y})^{2}}{b^{2}}$ centered at $[\\mu_{x}, \\mu_{y}]$ = [5, -5] and has a major axis 2a = 10 and minor axis 2b = 5\n",
        "\n",
        "(b) Scatter plot all the points."
      ],
      "metadata": {
        "id": "Z6b4K5SrUSeX"
      }
    },
    {
      "cell_type": "code",
      "source": [
        "#We will do this by rejection method\n",
        "\n",
        "#Part a\n",
        "#get enough random points within the rectangle containing the ellipse\n",
        "#i.e.: (mu_x-a) to (mu_x+a) in x-direction & (mu_y-b) to (mu_y+b) in y-direction\n",
        "x1 = np.random.uniform(low=0, high=10, size=500)\n",
        "y1 = np.random.uniform(low=-2.5, high=-7.5, size=500)\n",
        "\n",
        "#now we will remove all those points which fall on or outside the ellipse\n",
        "idx = np.array( (((x1-5)/5)**2 + ((y1+5)/2.5)**2) <1 )\n",
        "\n",
        "#now we will take 100 random points out of this\n",
        "x = x1[idx]\n",
        "x = x[0:100]\n",
        "y = y1[idx]\n",
        "y = y[0:100]\n",
        "\n",
        "gen_set = np.array([x, y]).T\n",
        "print(\"100 random points within the ellipse generated with shape: \", gen_set.shape)\n",
        "\n",
        "#Part b\n",
        "plt.figure()\n",
        "plt.plot(x, y, 'b*')\n",
        "plt.grid()\n",
        "plt.xlabel('x')\n",
        "plt.ylabel('y')\n",
        "plt.title('Scatter plot of 100 random points inside ellipse')\n",
        "plt.show()"
      ],
      "metadata": {
        "colab": {
          "base_uri": "https://localhost:8080/",
          "height": 312
        },
        "id": "cVJQuGkkWJFZ",
        "outputId": "a691059a-65c1-4741-fffa-9206590f6503"
      },
      "execution_count": null,
      "outputs": [
        {
          "output_type": "stream",
          "name": "stdout",
          "text": [
            "100 random points within the ellipse generated with shape:  (100, 2)\n"
          ]
        },
        {
          "output_type": "display_data",
          "data": {
            "image/png": "[encoded data removed]",
            "text/plain": [
              "<Figure size 432x288 with 1 Axes>"
            ]
          },
          "metadata": {
            "needs_background": "light"
          }
        }
      ]
    }
  ],
  "metadata": {
    "colab": {
      "collapsed_sections": [],
      "name": "214161006_214161011_Assignment_01.ipynb",
      "provenance": [],
      "include_colab_link": true
    },
    "kernelspec": {
      "display_name": "Python 3",
      "name": "python3"
    },
    "language_info": {
      "name": "python"
    }
  },
  "nbformat": 4,
  "nbformat_minor": 0
}
