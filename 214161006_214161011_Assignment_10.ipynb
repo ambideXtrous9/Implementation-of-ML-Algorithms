{
  "cells": [
    {
      "cell_type": "markdown",
      "metadata": {
        "id": "view-in-github",
        "colab_type": "text"
      },
      "source": [
        "<a href=\"https://colab.research.google.com/github/ambideXtrous9/Machine-Learning-Assignments/blob/main/214161006_214161011_Assignment_10.ipynb\" target=\"_parent\"><img src=\"https://colab.research.google.com/assets/colab-badge.svg\" alt=\"Open In Colab\"/></a>"
      ]
    },
    {
      "cell_type": "code",
      "execution_count": null,
      "id": "f523c73f",
      "metadata": {
        "id": "f523c73f"
      },
      "outputs": [],
      "source": [
        "import numpy as np\n",
        "import pandas as pd\n",
        "import matplotlib.pyplot as plt\n",
        "from sklearn.model_selection import train_test_split\n",
        "from sklearn.datasets import fetch_openml\n",
        "from sklearn.metrics import f1_score\n",
        "from imblearn.over_sampling import KMeansSMOTE\n",
        "from sklearn.preprocessing import StandardScaler\n",
        "import torch\n",
        "from torch import nn"
      ]
    },
    {
      "cell_type": "code",
      "execution_count": null,
      "id": "f06a8495",
      "metadata": {
        "id": "f06a8495"
      },
      "outputs": [],
      "source": [
        "import warnings\n",
        "warnings.filterwarnings(action='ignore',category=UserWarning)"
      ]
    },
    {
      "cell_type": "markdown",
      "id": "95f7d0c3",
      "metadata": {
        "id": "95f7d0c3"
      },
      "source": [
        "# Q1. Classification of Normal and Shouted Speech using MFCC features"
      ]
    },
    {
      "cell_type": "code",
      "execution_count": null,
      "id": "d82b9fa6",
      "metadata": {
        "id": "d82b9fa6",
        "outputId": "020fc963-4525-4e70-f85e-468eccf26c4f"
      },
      "outputs": [
        {
          "data": {
            "text/plain": [
              "(86060, 61)"
            ]
          },
          "execution_count": 3,
          "metadata": {},
          "output_type": "execute_result"
        }
      ],
      "source": [
        "df_train = pd.read_csv('Train_file.csv', names=[i for i in range(61)])\n",
        "X_train = df_train.drop(columns=[60]).to_numpy()\n",
        "X_train = np.column_stack((np.ones((X_train.shape[0],1)), X_train))\n",
        "y_train = df_train[60].to_numpy().reshape(-1,1)\n",
        "X_train.shape"
      ]
    },
    {
      "cell_type": "code",
      "execution_count": null,
      "id": "d9a80c43",
      "metadata": {
        "id": "d9a80c43",
        "outputId": "a2253533-90d5-4ec1-cada-9a2d7f49ddbf"
      },
      "outputs": [
        {
          "data": {
            "text/plain": [
              "(21516, 61)"
            ]
          },
          "execution_count": 4,
          "metadata": {},
          "output_type": "execute_result"
        }
      ],
      "source": [
        "df_test = pd.read_csv('Test_file.csv', names=[i for i in range(61)])\n",
        "X_test = df_test.drop(columns=[60]).to_numpy()\n",
        "X_test = np.column_stack((np.ones((X_test.shape[0],1)), X_test))\n",
        "y_test = df_test[60].to_numpy().reshape(-1,1)\n",
        "X_test.shape"
      ]
    },
    {
      "cell_type": "code",
      "execution_count": null,
      "id": "0d64fbf8",
      "metadata": {
        "id": "0d64fbf8"
      },
      "outputs": [],
      "source": [
        "def mysigmoid(z):\n",
        "    return np.reciprocal(1 + (np.e**(-z)))\n",
        "\n",
        "def myloss(y_true, y_pred):\n",
        "    return -1*np.mean(y_true*np.log(y_pred) + (1-y_true)*np.log(1-y_pred))\n",
        "\n",
        "def myF1score(y_true, y_pred):\n",
        "    \n",
        "    #compute precision\n",
        "    P = np.sum((y_pred==y_true) & (y_true==1))/np.sum(y_pred==1)\n",
        "    \n",
        "    #compute recall\n",
        "    R = np.sum((y_pred==y_true) & (y_true==1))/np.sum(y_true==1)\n",
        "    \n",
        "    #compute F1 score\n",
        "    F1 = (2*P*R)/(P+R)\n",
        "    \n",
        "    return F1"
      ]
    },
    {
      "cell_type": "code",
      "execution_count": null,
      "id": "78eeaac5",
      "metadata": {
        "id": "78eeaac5"
      },
      "outputs": [],
      "source": [
        "def train_perceptron(X, y, epochs = 10, batch_size=100, lr=1):\n",
        "    \n",
        "    #set no of samples - m\n",
        "    m = X.shape[0]\n",
        "    \n",
        "    #set dimension of each input - n (including bias)\n",
        "    n = X.shape[1]\n",
        "    \n",
        "    #initialize weight matrix & bias scalar - W\n",
        "    W = np.random.uniform(low=0.1, high=1,size=(n,1)) #set low=0.1 so that it doesnt initialize 0\n",
        "    \n",
        "    #initialize array to store training losses for each epoch\n",
        "    train_losses = []\n",
        "    \n",
        "    #for each epoch\n",
        "    for e in range(epochs):\n",
        "        print(\"---Epoch {}---\".format(e+1))\n",
        "        \n",
        "        #for each batch - predict y\n",
        "        for i in range(0, m, batch_size):\n",
        "            #set batches\n",
        "            X_batch = X[i:min(i+batch_size, m),:]\n",
        "            y_batch = y[i:min(i+batch_size, m),:]\n",
        "\n",
        "            #predict y using linear transformation\n",
        "            y_pred = np.matmul(X_batch,W)\n",
        "            #apply sigmoid\n",
        "            y_pred = mysigmoid(y_pred)\n",
        "\n",
        "            #compute loss - binary cross-entropy\n",
        "            loss = myloss(y_batch, y_pred)\n",
        "\n",
        "            #do gradient descent on this mini-batch\n",
        "            W = W - (lr/y_batch.shape[0])*np.matmul(X_batch.T,y_pred-y_batch)\n",
        "        \n",
        "        #compute net loss for this epoch\n",
        "        net_loss = myloss(y, mysigmoid(np.matmul(X,W)))\n",
        "        train_losses.append(net_loss)\n",
        "        print(\"Training Loss: {}\\n\".format(net_loss))\n",
        "    \n",
        "    #plot the train losses\n",
        "    plt.figure(figsize=(7,7))\n",
        "    plt.plot(range(1, epochs+1), train_losses)\n",
        "    plt.title('Training Loss')\n",
        "    plt.xlabel('epochs')\n",
        "    plt.ylabel('train loss')\n",
        "    plt.show()\n",
        "    \n",
        "    return W, train_losses"
      ]
    },
    {
      "cell_type": "code",
      "execution_count": null,
      "id": "331b2133",
      "metadata": {
        "id": "331b2133"
      },
      "outputs": [],
      "source": [
        "def predict_perceptron(X, y, W):\n",
        "    \n",
        "    #predict y using learned weights\n",
        "    y_pred = mysigmoid(np.matmul(X,W))\n",
        "    \n",
        "    #classify y_pred using a threshold\n",
        "    y_pred = (y_pred>=0.5).astype(int)\n",
        "    \n",
        "    #compute F1 score for class 0\n",
        "    print(\"F1-score for class 0: {:.2f}\".format(myF1score((~y[y==0].astype(bool)).astype(int), (~y_pred[y==0].astype(bool)).astype(int))))\n",
        "    \n",
        "    #compute F1 score for class 1\n",
        "    print(\"F1-score for class 1: {:.2f}\".format(myF1score(y[y==1], y_pred[y==1])))\n",
        "    \n",
        "    #compute F1 score overall\n",
        "    print(\"F1-score overall: {:.2f}\".format(myF1score(y, y_pred)))\n",
        "    \n",
        "    #compute accuracy score\n",
        "    print(\"Accuracy score: {:.2f}%\".format(100*np.sum(y_pred==y)/y.shape[0]))\n",
        "    "
      ]
    },
    {
      "cell_type": "code",
      "execution_count": null,
      "id": "12157f38",
      "metadata": {
        "id": "12157f38",
        "outputId": "fd711d96-9f57-4ccc-851d-99590c9ef11b"
      },
      "outputs": [
        {
          "name": "stdout",
          "output_type": "stream",
          "text": [
            "---Epoch 1---\n",
            "Training Loss: 0.22812495772009922\n",
            "\n",
            "---Epoch 2---\n",
            "Training Loss: 0.21144631088557636\n",
            "\n",
            "---Epoch 3---\n",
            "Training Loss: 0.20156299968848984\n",
            "\n",
            "---Epoch 4---\n",
            "Training Loss: 0.19507264655150217\n",
            "\n",
            "---Epoch 5---\n",
            "Training Loss: 0.1905428653133742\n",
            "\n",
            "---Epoch 6---\n",
            "Training Loss: 0.1872326233380853\n",
            "\n",
            "---Epoch 7---\n",
            "Training Loss: 0.18472368861986133\n",
            "\n",
            "---Epoch 8---\n",
            "Training Loss: 0.18276391091658406\n",
            "\n",
            "---Epoch 9---\n",
            "Training Loss: 0.18119335350924515\n",
            "\n",
            "---Epoch 10---\n",
            "Training Loss: 0.17990647973584337\n",
            "\n",
            "---Epoch 11---\n",
            "Training Loss: 0.17883140191033778\n",
            "\n",
            "---Epoch 12---\n",
            "Training Loss: 0.1779178402474972\n",
            "\n",
            "---Epoch 13---\n",
            "Training Loss: 0.17712982102222855\n",
            "\n",
            "---Epoch 14---\n",
            "Training Loss: 0.17644108873056694\n",
            "\n",
            "---Epoch 15---\n",
            "Training Loss: 0.1758321373500001\n",
            "\n",
            "---Epoch 16---\n",
            "Training Loss: 0.17528824044995073\n",
            "\n",
            "---Epoch 17---\n",
            "Training Loss: 0.17479811520822774\n",
            "\n",
            "---Epoch 18---\n",
            "Training Loss: 0.17435299869878804\n",
            "\n",
            "---Epoch 19---\n",
            "Training Loss: 0.173945998144183\n",
            "\n",
            "---Epoch 20---\n",
            "Training Loss: 0.17357162674852608\n",
            "\n",
            "---Epoch 21---\n",
            "Training Loss: 0.17322546742351677\n",
            "\n",
            "---Epoch 22---\n",
            "Training Loss: 0.172903926034359\n",
            "\n",
            "---Epoch 23---\n",
            "Training Loss: 0.1726040481982147\n",
            "\n",
            "---Epoch 24---\n",
            "Training Loss: 0.1723233817863775\n",
            "\n",
            "---Epoch 25---\n",
            "Training Loss: 0.17205987268540893\n",
            "\n",
            "---Epoch 26---\n",
            "Training Loss: 0.1718117850261302\n",
            "\n",
            "---Epoch 27---\n",
            "Training Loss: 0.17157763959521224\n",
            "\n",
            "---Epoch 28---\n",
            "Training Loss: 0.1713561658855657\n",
            "\n",
            "---Epoch 29---\n",
            "Training Loss: 0.17114626446683825\n",
            "\n",
            "---Epoch 30---\n",
            "Training Loss: 0.17094697722895333\n",
            "\n"
          ]
        },
        {
          "data": {
            "image/png": "[encoded data removed]",
            "text/plain": [
              "<Figure size 504x504 with 1 Axes>"
            ]
          },
          "metadata": {
            "needs_background": "light"
          },
          "output_type": "display_data"
        }
      ],
      "source": [
        "W, _ = train_perceptron(X_train, y_train, epochs=30, lr=0.1)"
      ]
    },
    {
      "cell_type": "code",
      "execution_count": null,
      "id": "65d64213",
      "metadata": {
        "scrolled": true,
        "id": "65d64213",
        "outputId": "e5eb86b0-62d5-4ee3-b9b3-f2a9387bbfa5"
      },
      "outputs": [
        {
          "name": "stdout",
          "output_type": "stream",
          "text": [
            "F1-score for class 0: 0.97\n",
            "F1-score for class 1: 0.96\n",
            "F1-score overall: 0.93\n",
            "Accuracy score: 92.96%\n"
          ]
        }
      ],
      "source": [
        "predict_perceptron(X_test, y_test, W)"
      ]
    },
    {
      "cell_type": "markdown",
      "id": "4f7c3358",
      "metadata": {
        "id": "4f7c3358"
      },
      "source": [
        "# Q2. Classification on MiniBoonE Dataset"
      ]
    },
    {
      "cell_type": "code",
      "execution_count": null,
      "id": "af7c1ee9",
      "metadata": {
        "id": "af7c1ee9"
      },
      "outputs": [],
      "source": [
        "electron = 36499 \n",
        "muon = 93565"
      ]
    },
    {
      "cell_type": "code",
      "execution_count": null,
      "id": "f0946210",
      "metadata": {
        "id": "f0946210"
      },
      "outputs": [],
      "source": [
        "df = np.loadtxt('MiniBooNE_PID.txt')"
      ]
    },
    {
      "cell_type": "code",
      "execution_count": null,
      "id": "c7c8951d",
      "metadata": {
        "id": "c7c8951d"
      },
      "outputs": [],
      "source": [
        "df = pd.DataFrame(df)\n",
        "df.columns = ['X' + str(x) for x in range(50) ]"
      ]
    },
    {
      "cell_type": "code",
      "execution_count": null,
      "id": "921a1aee",
      "metadata": {
        "id": "921a1aee"
      },
      "outputs": [],
      "source": [
        "df['Y'] = 1\n",
        "df.iloc[0:electron,50] = 0"
      ]
    },
    {
      "cell_type": "code",
      "execution_count": null,
      "id": "6132bce4",
      "metadata": {
        "id": "6132bce4",
        "outputId": "01adfc88-6e16-48b1-c358-7cfb681dad31"
      },
      "outputs": [
        {
          "data": {
            "text/plain": [
              "1    93565\n",
              "0    36499\n",
              "Name: Y, dtype: int64"
            ]
          },
          "execution_count": 14,
          "metadata": {},
          "output_type": "execute_result"
        }
      ],
      "source": [
        "df['Y'].value_counts()"
      ]
    },
    {
      "cell_type": "code",
      "execution_count": null,
      "id": "8d4473de",
      "metadata": {
        "id": "8d4473de",
        "outputId": "9502a7f3-f3c4-4cff-fea9-8510046234b5"
      },
      "outputs": [
        {
          "data": {
            "text/html": [
              "<div>\n",
              "<style scoped>\n",
              "    .dataframe tbody tr th:only-of-type {\n",
              "        vertical-align: middle;\n",
              "    }\n",
              "\n",
              "    .dataframe tbody tr th {\n",
              "        vertical-align: top;\n",
              "    }\n",
              "\n",
              "    .dataframe thead th {\n",
              "        text-align: right;\n",
              "    }\n",
              "</style>\n",
              "<table border=\"1\" class=\"dataframe\">\n",
              "  <thead>\n",
              "    <tr style=\"text-align: right;\">\n",
              "      <th></th>\n",
              "      <th>X0</th>\n",
              "      <th>X1</th>\n",
              "      <th>X2</th>\n",
              "      <th>X3</th>\n",
              "      <th>X4</th>\n",
              "      <th>X5</th>\n",
              "      <th>X6</th>\n",
              "      <th>X7</th>\n",
              "      <th>X8</th>\n",
              "      <th>X9</th>\n",
              "      <th>...</th>\n",
              "      <th>X41</th>\n",
              "      <th>X42</th>\n",
              "      <th>X43</th>\n",
              "      <th>X44</th>\n",
              "      <th>X45</th>\n",
              "      <th>X46</th>\n",
              "      <th>X47</th>\n",
              "      <th>X48</th>\n",
              "      <th>X49</th>\n",
              "      <th>Y</th>\n",
              "    </tr>\n",
              "  </thead>\n",
              "  <tbody>\n",
              "    <tr>\n",
              "      <th>0</th>\n",
              "      <td>2.59413</td>\n",
              "      <td>0.468803</td>\n",
              "      <td>20.6916</td>\n",
              "      <td>0.322648</td>\n",
              "      <td>0.009682</td>\n",
              "      <td>0.374393</td>\n",
              "      <td>0.803479</td>\n",
              "      <td>0.896592</td>\n",
              "      <td>3.59665</td>\n",
              "      <td>0.249282</td>\n",
              "      <td>...</td>\n",
              "      <td>-31.3730</td>\n",
              "      <td>0.442259</td>\n",
              "      <td>5.86453</td>\n",
              "      <td>0.000000</td>\n",
              "      <td>0.090519</td>\n",
              "      <td>0.176909</td>\n",
              "      <td>0.457585</td>\n",
              "      <td>0.071769</td>\n",
              "      <td>0.245996</td>\n",
              "      <td>0</td>\n",
              "    </tr>\n",
              "    <tr>\n",
              "      <th>1</th>\n",
              "      <td>3.86388</td>\n",
              "      <td>0.645781</td>\n",
              "      <td>18.1375</td>\n",
              "      <td>0.233529</td>\n",
              "      <td>0.030733</td>\n",
              "      <td>0.361239</td>\n",
              "      <td>1.069740</td>\n",
              "      <td>0.878714</td>\n",
              "      <td>3.59243</td>\n",
              "      <td>0.200793</td>\n",
              "      <td>...</td>\n",
              "      <td>45.9597</td>\n",
              "      <td>-0.478507</td>\n",
              "      <td>6.11126</td>\n",
              "      <td>0.001182</td>\n",
              "      <td>0.091800</td>\n",
              "      <td>-0.465572</td>\n",
              "      <td>0.935523</td>\n",
              "      <td>0.333613</td>\n",
              "      <td>0.230621</td>\n",
              "      <td>0</td>\n",
              "    </tr>\n",
              "    <tr>\n",
              "      <th>2</th>\n",
              "      <td>3.38584</td>\n",
              "      <td>1.197140</td>\n",
              "      <td>36.0807</td>\n",
              "      <td>0.200866</td>\n",
              "      <td>0.017341</td>\n",
              "      <td>0.260841</td>\n",
              "      <td>1.108950</td>\n",
              "      <td>0.884405</td>\n",
              "      <td>3.43159</td>\n",
              "      <td>0.177167</td>\n",
              "      <td>...</td>\n",
              "      <td>-11.5608</td>\n",
              "      <td>-0.297008</td>\n",
              "      <td>8.27204</td>\n",
              "      <td>0.003854</td>\n",
              "      <td>0.141721</td>\n",
              "      <td>-0.210559</td>\n",
              "      <td>1.013450</td>\n",
              "      <td>0.255512</td>\n",
              "      <td>0.180901</td>\n",
              "      <td>0</td>\n",
              "    </tr>\n",
              "    <tr>\n",
              "      <th>3</th>\n",
              "      <td>4.28524</td>\n",
              "      <td>0.510155</td>\n",
              "      <td>674.2010</td>\n",
              "      <td>0.281923</td>\n",
              "      <td>0.009174</td>\n",
              "      <td>0.000000</td>\n",
              "      <td>0.998822</td>\n",
              "      <td>0.823390</td>\n",
              "      <td>3.16382</td>\n",
              "      <td>0.171678</td>\n",
              "      <td>...</td>\n",
              "      <td>-18.4586</td>\n",
              "      <td>0.453886</td>\n",
              "      <td>2.48112</td>\n",
              "      <td>0.000000</td>\n",
              "      <td>0.180938</td>\n",
              "      <td>0.407968</td>\n",
              "      <td>4.341270</td>\n",
              "      <td>0.473081</td>\n",
              "      <td>0.258990</td>\n",
              "      <td>0</td>\n",
              "    </tr>\n",
              "    <tr>\n",
              "      <th>4</th>\n",
              "      <td>5.93662</td>\n",
              "      <td>0.832993</td>\n",
              "      <td>59.8796</td>\n",
              "      <td>0.232853</td>\n",
              "      <td>0.025066</td>\n",
              "      <td>0.233556</td>\n",
              "      <td>1.370040</td>\n",
              "      <td>0.787424</td>\n",
              "      <td>3.66546</td>\n",
              "      <td>0.174862</td>\n",
              "      <td>...</td>\n",
              "      <td>42.9600</td>\n",
              "      <td>-0.975752</td>\n",
              "      <td>2.66109</td>\n",
              "      <td>0.000000</td>\n",
              "      <td>0.170836</td>\n",
              "      <td>-0.814403</td>\n",
              "      <td>4.679490</td>\n",
              "      <td>1.924990</td>\n",
              "      <td>0.253893</td>\n",
              "      <td>0</td>\n",
              "    </tr>\n",
              "  </tbody>\n",
              "</table>\n",
              "<p>5 rows × 51 columns</p>\n",
              "</div>"
            ],
            "text/plain": [
              "        X0        X1        X2        X3        X4        X5        X6  \\\n",
              "0  2.59413  0.468803   20.6916  0.322648  0.009682  0.374393  0.803479   \n",
              "1  3.86388  0.645781   18.1375  0.233529  0.030733  0.361239  1.069740   \n",
              "2  3.38584  1.197140   36.0807  0.200866  0.017341  0.260841  1.108950   \n",
              "3  4.28524  0.510155  674.2010  0.281923  0.009174  0.000000  0.998822   \n",
              "4  5.93662  0.832993   59.8796  0.232853  0.025066  0.233556  1.370040   \n",
              "\n",
              "         X7       X8        X9  ...      X41       X42      X43       X44  \\\n",
              "0  0.896592  3.59665  0.249282  ... -31.3730  0.442259  5.86453  0.000000   \n",
              "1  0.878714  3.59243  0.200793  ...  45.9597 -0.478507  6.11126  0.001182   \n",
              "2  0.884405  3.43159  0.177167  ... -11.5608 -0.297008  8.27204  0.003854   \n",
              "3  0.823390  3.16382  0.171678  ... -18.4586  0.453886  2.48112  0.000000   \n",
              "4  0.787424  3.66546  0.174862  ...  42.9600 -0.975752  2.66109  0.000000   \n",
              "\n",
              "        X45       X46       X47       X48       X49  Y  \n",
              "0  0.090519  0.176909  0.457585  0.071769  0.245996  0  \n",
              "1  0.091800 -0.465572  0.935523  0.333613  0.230621  0  \n",
              "2  0.141721 -0.210559  1.013450  0.255512  0.180901  0  \n",
              "3  0.180938  0.407968  4.341270  0.473081  0.258990  0  \n",
              "4  0.170836 -0.814403  4.679490  1.924990  0.253893  0  \n",
              "\n",
              "[5 rows x 51 columns]"
            ]
          },
          "execution_count": 15,
          "metadata": {},
          "output_type": "execute_result"
        }
      ],
      "source": [
        "df.head()"
      ]
    },
    {
      "cell_type": "code",
      "execution_count": null,
      "id": "c847290a",
      "metadata": {
        "id": "c847290a"
      },
      "outputs": [],
      "source": [
        "electron_signal = df.iloc[0:36499,:]\n",
        "muon_background = df.iloc[36499:,:]"
      ]
    },
    {
      "cell_type": "code",
      "execution_count": null,
      "id": "7c7c6f3a",
      "metadata": {
        "id": "7c7c6f3a"
      },
      "outputs": [],
      "source": [
        "electron_signal_test = electron_signal.iloc[0:11000,:]\n",
        "electron_signal_train = electron_signal.iloc[11000:,:]"
      ]
    },
    {
      "cell_type": "code",
      "execution_count": null,
      "id": "1c3aa138",
      "metadata": {
        "id": "1c3aa138"
      },
      "outputs": [],
      "source": [
        "muon_background_test = muon_background.iloc[0:11000,:]\n",
        "muon_background_train = muon_background.iloc[11000:,:]"
      ]
    },
    {
      "cell_type": "code",
      "execution_count": null,
      "id": "59d831fd",
      "metadata": {
        "id": "59d831fd",
        "outputId": "b0a11d17-fd0f-4eac-d4b3-6ba172d50afd"
      },
      "outputs": [
        {
          "name": "stdout",
          "output_type": "stream",
          "text": [
            "(82565, 51)\n",
            "(25499, 51)\n",
            "(11000, 51)\n",
            "(11000, 51)\n",
            "(130064, 51)\n",
            "130064\n"
          ]
        }
      ],
      "source": [
        "print(muon_background_train.shape)\n",
        "print(electron_signal_train.shape)\n",
        "print(muon_background_test.shape)\n",
        "print(electron_signal_test.shape)\n",
        "print(df.shape)\n",
        "print(muon_background_train.shape[0]+electron_signal_train.shape[0]+muon_background_test.shape[0]+electron_signal_test.shape[0])"
      ]
    },
    {
      "cell_type": "code",
      "execution_count": null,
      "id": "0835b346",
      "metadata": {
        "id": "0835b346",
        "outputId": "545b8d50-4ec4-40d7-a245-12b8acb5b20f"
      },
      "outputs": [
        {
          "name": "stdout",
          "output_type": "stream",
          "text": [
            "(108064, 51)\n",
            "(22000, 51)\n"
          ]
        }
      ],
      "source": [
        "X1 = pd.concat([electron_signal_train,muon_background_train])\n",
        "X2 = pd.concat([electron_signal_test,muon_background_test])\n",
        "print(X1.shape)\n",
        "print(X2.shape)"
      ]
    },
    {
      "cell_type": "code",
      "execution_count": null,
      "id": "cd643d2c",
      "metadata": {
        "id": "cd643d2c"
      },
      "outputs": [],
      "source": [
        "X1 = X1.sample(frac=1).reset_index(drop=True)\n",
        "X2 = X2.sample(frac=1).reset_index(drop=True)"
      ]
    },
    {
      "cell_type": "code",
      "execution_count": null,
      "id": "f5d8630a",
      "metadata": {
        "id": "f5d8630a",
        "outputId": "a5cc9c13-f6dc-4554-d242-eb97b388ce0e"
      },
      "outputs": [
        {
          "name": "stdout",
          "output_type": "stream",
          "text": [
            "(108064, 50)\n",
            "(108064,)\n",
            "(22000, 50)\n",
            "(22000,)\n"
          ]
        }
      ],
      "source": [
        "X_train = X1.iloc[:,:-1]\n",
        "Y_train = X1.iloc[:,-1]\n",
        "print(X_train.shape)\n",
        "print(Y_train.shape)\n",
        "X_test = X2.iloc[:,:-1]\n",
        "Y_test = X2.iloc[:,-1]\n",
        "print(X_test.shape)\n",
        "print(Y_test.shape)"
      ]
    },
    {
      "cell_type": "code",
      "execution_count": null,
      "id": "6cb39b9f",
      "metadata": {
        "id": "6cb39b9f"
      },
      "outputs": [],
      "source": [
        "input_scaler = StandardScaler()\n",
        "xtrr = np.array(X_train)\n",
        "ytr = np.array(Y_train)\n",
        "xtss = np.array(X_test)\n",
        "yts = np.array(Y_test)\n",
        "xtr = input_scaler.fit_transform(xtrr)\n",
        "xts = input_scaler.transform(xtss)"
      ]
    },
    {
      "cell_type": "code",
      "execution_count": null,
      "id": "9e4b0e7f",
      "metadata": {
        "id": "9e4b0e7f",
        "outputId": "eb8620df-4ab0-44d2-e9dd-04a84711360e"
      },
      "outputs": [
        {
          "name": "stdout",
          "output_type": "stream",
          "text": [
            "cpu\n"
          ]
        }
      ],
      "source": [
        "device = torch.device(\"cuda:0\" if torch.cuda.is_available() else \"cpu\")\n",
        "print(device)"
      ]
    },
    {
      "cell_type": "code",
      "execution_count": null,
      "id": "903f9fda",
      "metadata": {
        "id": "903f9fda"
      },
      "outputs": [],
      "source": [
        "class SimpleClassifier(nn.Module):\n",
        "    def __init__(self):\n",
        "        super().__init__()\n",
        "        self.hl1 = nn.Linear(in_features=50, out_features=1)\n",
        "        self.sig1 = nn.Sigmoid()\n",
        "        \n",
        "    def forward(self, x):\n",
        "        x = self.hl1(x)\n",
        "        x = self.sig1(x)\n",
        "        return x.squeeze()"
      ]
    },
    {
      "cell_type": "code",
      "execution_count": null,
      "id": "6b85c5b8",
      "metadata": {
        "id": "6b85c5b8"
      },
      "outputs": [],
      "source": [
        "def train(model, x, y, loss_fn, optimizer, batch_size=10):\n",
        "    model.train()\n",
        "    x, y = torch.Tensor(x).to(device), torch.Tensor(y).to(device)\n",
        "    net_loss = 0\n",
        "    \n",
        "    for i in range(0, len(x), batch_size):\n",
        "        i_end = i+batch_size\n",
        "        x_batch = x[i:min(i_end, len(x))]\n",
        "        y_batch = y[i:min(i_end, len(x))]\n",
        "        \n",
        "        pred = model(x_batch)\n",
        "        loss = loss_fn(pred, y_batch)\n",
        "        net_loss = net_loss + loss.item()\n",
        "        \n",
        "        optimizer.zero_grad()\n",
        "        loss.backward()\n",
        "        optimizer.step()\n",
        "        \n",
        "    return net_loss"
      ]
    },
    {
      "cell_type": "code",
      "execution_count": null,
      "id": "890c97e0",
      "metadata": {
        "id": "890c97e0"
      },
      "outputs": [],
      "source": [
        "def test(model, xts, yts):\n",
        "    model.eval()\n",
        "    with torch.no_grad():\n",
        "        xt = torch.Tensor(xts).to(device)\n",
        "        yt = torch.Tensor(yts).to(device)\n",
        "        pred = model(xt)\n",
        "        yhat = torch.zeros(pred.shape).to(device)\n",
        "        yhat[pred > 0.5] = 1\n",
        "        f1_sc = f1_score(yt.cpu().data, yhat.cpu(),average=None)\n",
        "        print(\"\\tF-1 Score : {} % \".format(f1_sc))\n",
        "        acc = sum(yhat==yt)*100/len(yt)\n",
        "        print(\"\\tTest Accuracy : {} % \".format(acc))\n",
        "        return acc,f1_sc"
      ]
    },
    {
      "cell_type": "code",
      "execution_count": null,
      "id": "eb31d117",
      "metadata": {
        "id": "eb31d117"
      },
      "outputs": [],
      "source": [
        "epoch = 100\n",
        "bs = 64"
      ]
    },
    {
      "cell_type": "code",
      "execution_count": null,
      "id": "27857e30",
      "metadata": {
        "id": "27857e30",
        "outputId": "f0ab92b1-ca62-497c-9b78-94d6a05401a3"
      },
      "outputs": [
        {
          "name": "stdout",
          "output_type": "stream",
          "text": [
            "--- Epoch 1 ---\n",
            "\tBCE Loss (Training) : 760.452807366848 \n",
            "\tF-1 Score : [0.68362883 0.79360072] % \n",
            "\tTest Accuracy : 75.01818084716797 % \n",
            "--- Epoch 2 ---\n",
            "\tBCE Loss (Training) : 576.6193342506886 \n",
            "\tF-1 Score : [0.68958393 0.79646284] % \n",
            "\tTest Accuracy : 75.41363525390625 % \n",
            "--- Epoch 3 ---\n",
            "\tBCE Loss (Training) : 557.3360737264156 \n",
            "\tF-1 Score : [0.69930548 0.80018158] % \n",
            "\tTest Accuracy : 75.99090576171875 % \n",
            "--- Epoch 4 ---\n",
            "\tBCE Loss (Training) : 549.9966596066952 \n",
            "\tF-1 Score : [0.70497    0.80208096] % \n",
            "\tTest Accuracy : 76.30908966064453 % \n",
            "--- Epoch 5 ---\n",
            "\tBCE Loss (Training) : 545.9219369888306 \n",
            "\tF-1 Score : [0.70842966 0.80312203] % \n",
            "\tTest Accuracy : 76.49545288085938 % \n",
            "--- Epoch 6 ---\n",
            "\tBCE Loss (Training) : 543.4678270369768 \n",
            "\tF-1 Score : [0.71192537 0.80439594] % \n",
            "\tTest Accuracy : 76.69999694824219 % \n",
            "--- Epoch 7 ---\n",
            "\tBCE Loss (Training) : 541.8646055161953 \n",
            "\tF-1 Score : [0.71317133 0.80478209] % \n",
            "\tTest Accuracy : 76.76818084716797 % \n",
            "--- Epoch 8 ---\n",
            "\tBCE Loss (Training) : 540.7203325331211 \n",
            "\tF-1 Score : [0.71485404 0.80541429] % \n",
            "\tTest Accuracy : 76.86817932128906 % \n",
            "--- Epoch 9 ---\n",
            "\tBCE Loss (Training) : 539.8323073536158 \n",
            "\tF-1 Score : [0.71612542 0.80604438] % \n",
            "\tTest Accuracy : 76.95454406738281 % \n",
            "--- Epoch 10 ---\n",
            "\tBCE Loss (Training) : 539.0929959118366 \n",
            "\tF-1 Score : [0.71735242 0.80637255] % \n",
            "\tTest Accuracy : 77.01818084716797 % \n",
            "--- Epoch 11 ---\n",
            "\tBCE Loss (Training) : 538.4441506117582 \n",
            "\tF-1 Score : [0.71772527 0.80639105] % \n",
            "\tTest Accuracy : 77.03181457519531 % \n",
            "--- Epoch 12 ---\n",
            "\tBCE Loss (Training) : 537.8536293655634 \n",
            "\tF-1 Score : [0.71807471 0.80648499] % \n",
            "\tTest Accuracy : 77.05000305175781 % \n",
            "--- Epoch 13 ---\n",
            "\tBCE Loss (Training) : 537.3031957298517 \n",
            "\tF-1 Score : [0.7189331  0.80685609] % \n",
            "\tTest Accuracy : 77.10454559326172 % \n",
            "--- Epoch 14 ---\n",
            "\tBCE Loss (Training) : 536.7821267992258 \n",
            "\tF-1 Score : [0.71933054 0.80705657] % \n",
            "\tTest Accuracy : 77.13182067871094 % \n",
            "--- Epoch 15 ---\n",
            "\tBCE Loss (Training) : 536.2839016914368 \n",
            "\tF-1 Score : [0.71954485 0.80714943] % \n",
            "\tTest Accuracy : 77.14545440673828 % \n",
            "--- Epoch 16 ---\n",
            "\tBCE Loss (Training) : 535.8049466758966 \n",
            "\tF-1 Score : [0.71982158 0.80721274] % \n",
            "\tTest Accuracy : 77.15908813476562 % \n",
            "--- Epoch 17 ---\n",
            "\tBCE Loss (Training) : 535.3422678411007 \n",
            "\tF-1 Score : [0.72013823 0.80732185] % \n",
            "\tTest Accuracy : 77.1772689819336 % \n",
            "--- Epoch 18 ---\n",
            "\tBCE Loss (Training) : 534.8944814503193 \n",
            "\tF-1 Score : [0.72045467 0.80743101] % \n",
            "\tTest Accuracy : 77.1954574584961 % \n",
            "--- Epoch 19 ---\n",
            "\tBCE Loss (Training) : 534.4603013247252 \n",
            "\tF-1 Score : [0.72048582 0.80741622] % \n",
            "\tTest Accuracy : 77.1954574584961 % \n",
            "--- Epoch 20 ---\n",
            "\tBCE Loss (Training) : 534.0387161076069 \n",
            "\tF-1 Score : [0.72069964 0.80750921] % \n",
            "\tTest Accuracy : 77.20909118652344 % \n",
            "--- Epoch 21 ---\n",
            "\tBCE Loss (Training) : 533.6288945823908 \n",
            "\tF-1 Score : [0.72084215 0.80757122] % \n",
            "\tTest Accuracy : 77.21818542480469 % \n",
            "--- Epoch 22 ---\n",
            "\tBCE Loss (Training) : 533.2297707051039 \n",
            "\tF-1 Score : [0.72109601 0.80771003] % \n",
            "\tTest Accuracy : 77.23636627197266 % \n",
            "--- Epoch 23 ---\n",
            "\tBCE Loss (Training) : 532.841486170888 \n",
            "\tF-1 Score : [0.72176769 0.80797449] % \n",
            "\tTest Accuracy : 77.27727508544922 % \n",
            "--- Epoch 24 ---\n",
            "\tBCE Loss (Training) : 532.4631159603596 \n",
            "\tF-1 Score : [0.7221944  0.80816076] % \n",
            "\tTest Accuracy : 77.3045425415039 % \n",
            "--- Epoch 25 ---\n",
            "\tBCE Loss (Training) : 532.0937627106905 \n",
            "\tF-1 Score : [0.72245716 0.80836023] % \n",
            "\tTest Accuracy : 77.3272705078125 % \n",
            "--- Epoch 26 ---\n",
            "\tBCE Loss (Training) : 531.7337252348661 \n",
            "\tF-1 Score : [0.72255911 0.80837656] % \n",
            "\tTest Accuracy : 77.33181762695312 % \n",
            "--- Epoch 27 ---\n",
            "\tBCE Loss (Training) : 531.3818157613277 \n",
            "\tF-1 Score : [0.72277228 0.80846976] % \n",
            "\tTest Accuracy : 77.34545135498047 % \n",
            "--- Epoch 28 ---\n",
            "\tBCE Loss (Training) : 531.0384016484022 \n",
            "\tF-1 Score : [0.7231984  0.80865621] % \n",
            "\tTest Accuracy : 77.37272644042969 % \n",
            "--- Epoch 29 ---\n",
            "\tBCE Loss (Training) : 530.7023324519396 \n",
            "\tF-1 Score : [0.72337114 0.80870368] % \n",
            "\tTest Accuracy : 77.38182067871094 % \n",
            "--- Epoch 30 ---\n",
            "\tBCE Loss (Training) : 530.3740191310644 \n",
            "\tF-1 Score : [0.72334038 0.80871838] % \n",
            "\tTest Accuracy : 77.38182067871094 % \n",
            "--- Epoch 31 ---\n",
            "\tBCE Loss (Training) : 530.0523474812508 \n",
            "\tF-1 Score : [0.72370469 0.80893434] % \n",
            "\tTest Accuracy : 77.40908813476562 % \n",
            "--- Epoch 32 ---\n",
            "\tBCE Loss (Training) : 529.737436145544 \n",
            "\tF-1 Score : [0.72420117 0.80915209] % \n",
            "\tTest Accuracy : 77.44091033935547 % \n",
            "--- Epoch 33 ---\n",
            "\tBCE Loss (Training) : 529.42930367589 \n",
            "\tF-1 Score : [0.72441382 0.80924544] % \n",
            "\tTest Accuracy : 77.45454406738281 % \n",
            "--- Epoch 34 ---\n",
            "\tBCE Loss (Training) : 529.1269925683737 \n",
            "\tF-1 Score : [0.72480835 0.80944688] % \n",
            "\tTest Accuracy : 77.48181915283203 % \n",
            "--- Epoch 35 ---\n",
            "\tBCE Loss (Training) : 528.8309486359358 \n",
            "\tF-1 Score : [0.72513191 0.80961723] % \n",
            "\tTest Accuracy : 77.50454711914062 % \n",
            "--- Epoch 36 ---\n",
            "\tBCE Loss (Training) : 528.5401917845011 \n",
            "\tF-1 Score : [0.7252735  0.80967953] % \n",
            "\tTest Accuracy : 77.51363372802734 % \n",
            "--- Epoch 37 ---\n",
            "\tBCE Loss (Training) : 528.2548557966948 \n",
            "\tF-1 Score : [0.72525275 0.8097546 ] % \n",
            "\tTest Accuracy : 77.51818084716797 % \n",
            "--- Epoch 38 ---\n",
            "\tBCE Loss (Training) : 527.97510394454 \n",
            "\tF-1 Score : [0.72568731 0.81000192] % \n",
            "\tTest Accuracy : 77.55000305175781 % \n",
            "--- Epoch 39 ---\n",
            "\tBCE Loss (Training) : 527.6999994665384 \n",
            "\tF-1 Score : [0.72568731 0.81000192] % \n",
            "\tTest Accuracy : 77.55000305175781 % \n",
            "--- Epoch 40 ---\n",
            "\tBCE Loss (Training) : 527.4300077706575 \n",
            "\tF-1 Score : [0.72571778 0.8099873 ] % \n",
            "\tTest Accuracy : 77.55000305175781 % \n",
            "--- Epoch 41 ---\n",
            "\tBCE Loss (Training) : 527.1643355190754 \n",
            "\tF-1 Score : [0.72628365 0.81023668] % \n",
            "\tTest Accuracy : 77.58636474609375 % \n",
            "--- Epoch 42 ---\n",
            "\tBCE Loss (Training) : 526.9031091481447 \n",
            "\tF-1 Score : [0.72649573 0.81033023] % \n",
            "\tTest Accuracy : 77.5999984741211 % \n",
            "--- Epoch 43 ---\n",
            "\tBCE Loss (Training) : 526.6464731395245 \n",
            "\tF-1 Score : [0.72688936 0.81053199] % \n",
            "\tTest Accuracy : 77.62727355957031 % \n",
            "--- Epoch 44 ---\n",
            "\tBCE Loss (Training) : 526.3936434835196 \n",
            "\tF-1 Score : [0.72702058 0.81053402] % \n",
            "\tTest Accuracy : 77.63182067871094 % \n",
            "--- Epoch 45 ---\n",
            "\tBCE Loss (Training) : 526.1447646617889 \n",
            "\tF-1 Score : [0.72751469 0.81075252] % \n",
            "\tTest Accuracy : 77.66363525390625 % \n",
            "--- Epoch 46 ---\n",
            "\tBCE Loss (Training) : 525.9000479280949 \n",
            "\tF-1 Score : [0.7276558  0.81081497] % \n",
            "\tTest Accuracy : 77.6727294921875 % \n",
            "--- Epoch 47 ---\n",
            "\tBCE Loss (Training) : 525.6587274521589 \n",
            "\tF-1 Score : [0.7278674  0.81090867] % \n",
            "\tTest Accuracy : 77.68636322021484 % \n",
            "--- Epoch 48 ---\n",
            "\tBCE Loss (Training) : 525.4209423959255 \n",
            "\tF-1 Score : [0.72782705 0.81086287] % \n",
            "\tTest Accuracy : 77.68181610107422 % \n",
            "--- Epoch 49 ---\n",
            "\tBCE Loss (Training) : 525.186919465661 \n",
            "\tF-1 Score : [0.72796807 0.81092534] % \n",
            "\tTest Accuracy : 77.69091033935547 % \n",
            "--- Epoch 50 ---\n",
            "\tBCE Loss (Training) : 524.9559155851603 \n",
            "\tF-1 Score : [0.72810907 0.81098783] % \n",
            "\tTest Accuracy : 77.69999694824219 % \n",
            "--- Epoch 51 ---\n",
            "\tBCE Loss (Training) : 524.7281403392553 \n",
            "\tF-1 Score : [0.72825003 0.81105032] % \n",
            "\tTest Accuracy : 77.70909118652344 % \n",
            "--- Epoch 52 ---\n",
            "\tBCE Loss (Training) : 524.5037281364202 \n",
            "\tF-1 Score : [0.72867272 0.81123786] % \n",
            "\tTest Accuracy : 77.73636627197266 % \n",
            "--- Epoch 53 ---\n",
            "\tBCE Loss (Training) : 524.2820543497801 \n",
            "\tF-1 Score : [0.72895436 0.81136294] % \n",
            "\tTest Accuracy : 77.75454711914062 % \n",
            "--- Epoch 54 ---\n",
            "\tBCE Loss (Training) : 524.0632891505957 \n",
            "\tF-1 Score : [0.72905476 0.81137967] % \n",
            "\tTest Accuracy : 77.75909423828125 % \n",
            "--- Epoch 55 ---\n",
            "\tBCE Loss (Training) : 523.8476413488388 \n",
            "\tF-1 Score : [0.72932581 0.81144444] % \n",
            "\tTest Accuracy : 77.7727279663086 % \n",
            "--- Epoch 56 ---\n",
            "\tBCE Loss (Training) : 523.6344352066517 \n",
            "\tF-1 Score : [0.72963701 0.81155508] % \n",
            "\tTest Accuracy : 77.79090881347656 % \n",
            "--- Epoch 57 ---\n",
            "\tBCE Loss (Training) : 523.4238760322332 \n",
            "\tF-1 Score : [0.72980748 0.81160315] % \n",
            "\tTest Accuracy : 77.80000305175781 % \n",
            "--- Epoch 58 ---\n",
            "\tBCE Loss (Training) : 523.2161244601011 \n",
            "\tF-1 Score : [0.73050979 0.81191634] % \n",
            "\tTest Accuracy : 77.84545135498047 % \n",
            "--- Epoch 59 ---\n",
            "\tBCE Loss (Training) : 523.0106227397919 \n",
            "\tF-1 Score : [0.73073095 0.8120707 ] % \n",
            "\tTest Accuracy : 77.86363983154297 % \n",
            "--- Epoch 60 ---\n",
            "\tBCE Loss (Training) : 522.8075197637081 \n",
            "\tF-1 Score : [0.73066077 0.81203936] % \n",
            "\tTest Accuracy : 77.85909271240234 % \n",
            "--- Epoch 61 ---\n"
          ]
        },
        {
          "name": "stdout",
          "output_type": "stream",
          "text": [
            "\tBCE Loss (Training) : 522.6067457646132 \n",
            "\tF-1 Score : [0.7308713  0.81213337] % \n",
            "\tTest Accuracy : 77.87272644042969 % \n",
            "--- Epoch 62 ---\n",
            "\tBCE Loss (Training) : 522.4085225611925 \n",
            "\tF-1 Score : [0.73108175 0.81222741] % \n",
            "\tTest Accuracy : 77.88636016845703 % \n",
            "--- Epoch 63 ---\n",
            "\tBCE Loss (Training) : 522.2122510373592 \n",
            "\tF-1 Score : [0.73105202 0.8122419 ] % \n",
            "\tTest Accuracy : 77.88636016845703 % \n",
            "--- Epoch 64 ---\n",
            "\tBCE Loss (Training) : 522.0181332081556 \n",
            "\tF-1 Score : [0.73119231 0.8123046 ] % \n",
            "\tTest Accuracy : 77.89545440673828 % \n",
            "--- Epoch 65 ---\n",
            "\tBCE Loss (Training) : 521.8260977268219 \n",
            "\tF-1 Score : [0.73139194 0.81233834] % \n",
            "\tTest Accuracy : 77.90454864501953 % \n",
            "--- Epoch 66 ---\n",
            "\tBCE Loss (Training) : 521.6363375633955 \n",
            "\tF-1 Score : [0.73167228 0.8124638 ] % \n",
            "\tTest Accuracy : 77.9227294921875 % \n",
            "--- Epoch 67 ---\n",
            "\tBCE Loss (Training) : 521.4482897669077 \n",
            "\tF-1 Score : [0.73206297 0.81266654] % \n",
            "\tTest Accuracy : 77.94999694824219 % \n",
            "--- Epoch 68 ---\n",
            "\tBCE Loss (Training) : 521.2621962875128 \n",
            "\tF-1 Score : [0.73217343 0.81274377] % \n",
            "\tTest Accuracy : 77.95909118652344 % \n",
            "--- Epoch 69 ---\n",
            "\tBCE Loss (Training) : 521.0779437571764 \n",
            "\tF-1 Score : [0.73231347 0.81280655] % \n",
            "\tTest Accuracy : 77.96818542480469 % \n",
            "--- Epoch 70 ---\n",
            "\tBCE Loss (Training) : 520.8957591503859 \n",
            "\tF-1 Score : [0.73243482 0.81294408] % \n",
            "\tTest Accuracy : 77.98181915283203 % \n",
            "--- Epoch 71 ---\n",
            "\tBCE Loss (Training) : 520.7151042521 \n",
            "\tF-1 Score : [0.73282527 0.81314692] % \n",
            "\tTest Accuracy : 78.00909423828125 % \n",
            "--- Epoch 72 ---\n",
            "\tBCE Loss (Training) : 520.5361809432507 \n",
            "\tF-1 Score : [0.73310512 0.81327256] % \n",
            "\tTest Accuracy : 78.02727508544922 % \n",
            "--- Epoch 73 ---\n",
            "\tBCE Loss (Training) : 520.3589614331722 \n",
            "\tF-1 Score : [0.73345477 0.81342966] % \n",
            "\tTest Accuracy : 78.05000305175781 % \n",
            "--- Epoch 74 ---\n",
            "\tBCE Loss (Training) : 520.1833716481924 \n",
            "\tF-1 Score : [0.73359457 0.81349252] % \n",
            "\tTest Accuracy : 78.05908966064453 % \n",
            "--- Epoch 75 ---\n",
            "\tBCE Loss (Training) : 520.0096051841974 \n",
            "\tF-1 Score : [0.73369385 0.81350954] % \n",
            "\tTest Accuracy : 78.06363677978516 % \n",
            "--- Epoch 76 ---\n",
            "\tBCE Loss (Training) : 519.83717623353 \n",
            "\tF-1 Score : [0.73365337 0.81346369] % \n",
            "\tTest Accuracy : 78.05908966064453 % \n",
            "--- Epoch 77 ---\n",
            "\tBCE Loss (Training) : 519.6662691235542 \n",
            "\tF-1 Score : [0.73407248 0.81365235] % \n",
            "\tTest Accuracy : 78.08636474609375 % \n",
            "--- Epoch 78 ---\n",
            "\tBCE Loss (Training) : 519.496854737401 \n",
            "\tF-1 Score : [0.73421212 0.81371526] % \n",
            "\tTest Accuracy : 78.09545135498047 % \n",
            "--- Epoch 79 ---\n",
            "\tBCE Loss (Training) : 519.3288948237896 \n",
            "\tF-1 Score : [0.73449132 0.8138411 ] % \n",
            "\tTest Accuracy : 78.11363983154297 % \n",
            "--- Epoch 80 ---\n",
            "\tBCE Loss (Training) : 519.1623607724905 \n",
            "\tF-1 Score : [0.73484013 0.81399845] % \n",
            "\tTest Accuracy : 78.13636016845703 % \n",
            "--- Epoch 81 ---\n",
            "\tBCE Loss (Training) : 518.9974110722542 \n",
            "\tF-1 Score : [0.73497961 0.81406141] % \n",
            "\tTest Accuracy : 78.14545440673828 % \n",
            "--- Epoch 82 ---\n",
            "\tBCE Loss (Training) : 518.8336183577776 \n",
            "\tF-1 Score : [0.73504933 0.8140929 ] % \n",
            "\tTest Accuracy : 78.1500015258789 % \n",
            "--- Epoch 83 ---\n",
            "\tBCE Loss (Training) : 518.6711444556713 \n",
            "\tF-1 Score : [0.73546752 0.81428185] % \n",
            "\tTest Accuracy : 78.1772689819336 % \n",
            "--- Epoch 84 ---\n",
            "\tBCE Loss (Training) : 518.5099583119154 \n",
            "\tF-1 Score : [0.73588543 0.81447088] % \n",
            "\tTest Accuracy : 78.20454406738281 % \n",
            "--- Epoch 85 ---\n",
            "\tBCE Loss (Training) : 518.3500279486179 \n",
            "\tF-1 Score : [0.73603614 0.81459413] % \n",
            "\tTest Accuracy : 78.21818542480469 % \n",
            "--- Epoch 86 ---\n",
            "\tBCE Loss (Training) : 518.1913583874702 \n",
            "\tF-1 Score : [0.73639568 0.81481195] % \n",
            "\tTest Accuracy : 78.24545288085938 % \n",
            "--- Epoch 87 ---\n",
            "\tBCE Loss (Training) : 518.0338879525661 \n",
            "\tF-1 Score : [0.73653486 0.81487501] % \n",
            "\tTest Accuracy : 78.25454711914062 % \n",
            "--- Epoch 88 ---\n",
            "\tBCE Loss (Training) : 517.8777767270803 \n",
            "\tF-1 Score : [0.73667401 0.81493808] % \n",
            "\tTest Accuracy : 78.26363372802734 % \n",
            "--- Epoch 89 ---\n",
            "\tBCE Loss (Training) : 517.7226523309946 \n",
            "\tF-1 Score : [0.73674357 0.81496962] % \n",
            "\tTest Accuracy : 78.26818084716797 % \n",
            "--- Epoch 90 ---\n",
            "\tBCE Loss (Training) : 517.5686474740505 \n",
            "\tF-1 Score : [0.73699279 0.81511011] % \n",
            "\tTest Accuracy : 78.28636169433594 % \n",
            "--- Epoch 91 ---\n",
            "\tBCE Loss (Training) : 517.4157745093107 \n",
            "\tF-1 Score : [0.73751995 0.81537687] % \n",
            "\tTest Accuracy : 78.3227310180664 % \n",
            "--- Epoch 92 ---\n",
            "\tBCE Loss (Training) : 517.2639710754156 \n",
            "\tF-1 Score : [0.73757773 0.81534828] % \n",
            "\tTest Accuracy : 78.3227310180664 % \n",
            "--- Epoch 93 ---\n",
            "\tBCE Loss (Training) : 517.1132710278034 \n",
            "\tF-1 Score : [0.73785553 0.81547458] % \n",
            "\tTest Accuracy : 78.34091186523438 % \n",
            "--- Epoch 94 ---\n",
            "\tBCE Loss (Training) : 516.9635730236769 \n",
            "\tF-1 Score : [0.73799439 0.81553774] % \n",
            "\tTest Accuracy : 78.3499984741211 % \n",
            "--- Epoch 95 ---\n",
            "\tBCE Loss (Training) : 516.8149050325155 \n",
            "\tF-1 Score : [0.73820262 0.8156325 ] % \n",
            "\tTest Accuracy : 78.36363983154297 % \n",
            "--- Epoch 96 ---\n",
            "\tBCE Loss (Training) : 516.6672615557909 \n",
            "\tF-1 Score : [0.7383008  0.81564982] % \n",
            "\tTest Accuracy : 78.36817932128906 % \n",
            "--- Epoch 97 ---\n",
            "\tBCE Loss (Training) : 516.5205726027489 \n",
            "\tF-1 Score : [0.73850891 0.81574461] % \n",
            "\tTest Accuracy : 78.38182067871094 % \n",
            "--- Epoch 98 ---\n",
            "\tBCE Loss (Training) : 516.3748550117016 \n",
            "\tF-1 Score : [0.73850891 0.81574461] % \n",
            "\tTest Accuracy : 78.38182067871094 % \n",
            "--- Epoch 99 ---\n",
            "\tBCE Loss (Training) : 516.2300915122032 \n",
            "\tF-1 Score : [0.7388556  0.81590266] % \n",
            "\tTest Accuracy : 78.40454864501953 % \n",
            "--- Epoch 100 ---\n",
            "\tBCE Loss (Training) : 516.086442142725 \n",
            "\tF-1 Score : [0.7388556  0.81590266] % \n",
            "\tTest Accuracy : 78.40454864501953 % \n"
          ]
        }
      ],
      "source": [
        "model = SimpleClassifier().to(device)\n",
        "loss_fn = nn.BCELoss()\n",
        "optimizer = torch.optim.Adam(model.parameters())\n",
        "batch_size = bs\n",
        "epochs = epoch\n",
        "\n",
        "LOSS = []\n",
        "ACC = []\n",
        "F1SC = []\n",
        "\n",
        "for i in range(epochs):\n",
        "    print(\"--- Epoch {} ---\".format(i+1))\n",
        "    epoch_loss = train(model, xtr, ytr, loss_fn, optimizer, batch_size)\n",
        "    LOSS.append(epoch_loss)\n",
        "    print(\"\\tBCE Loss (Training) : {} \".format(epoch_loss))\n",
        "    accr,f1_sc = test(model, xts, yts)\n",
        "    ACC.append(accr)\n",
        "    F1SC.append(f1_sc)"
      ]
    },
    {
      "cell_type": "code",
      "execution_count": null,
      "id": "90ae3e19",
      "metadata": {
        "id": "90ae3e19",
        "outputId": "d126643f-44b4-4532-e846-75c9a187365f"
      },
      "outputs": [
        {
          "data": {
            "text/plain": [
              "<matplotlib.legend.Legend at 0x1f98ec55e48>"
            ]
          },
          "execution_count": 34,
          "metadata": {},
          "output_type": "execute_result"
        },
        {
          "data": {
            "image/png": "[encoded data removed]",
            "text/plain": [
              "<Figure size 1296x432 with 3 Axes>"
            ]
          },
          "metadata": {
            "needs_background": "light"
          },
          "output_type": "display_data"
        }
      ],
      "source": [
        "xx = np.arange(epochs)\n",
        "acc = torch.Tensor(ACC).detach().cpu().numpy()\n",
        "lss = torch.Tensor(LOSS).detach().cpu().numpy()\n",
        "f1sc = torch.Tensor(F1SC).detach().cpu().numpy()\n",
        "fig, (ax1, ax2, ax3) = plt.subplots(1, 3,figsize=(18,6))\n",
        "fig.suptitle('ACC vs LOSS vs F1-SCORE')\n",
        "ax1.plot(xx, acc, c='green')\n",
        "ax2.plot(xx, lss, c='red')\n",
        "ax3.plot(xx, f1sc[:,0], c='orange',label=\"electron\")\n",
        "ax3.plot(xx, f1sc[:,1], c='blue',label=\"muon\")\n",
        "ax3.legend(loc='best')"
      ]
    },
    {
      "cell_type": "code",
      "execution_count": null,
      "id": "b6333323",
      "metadata": {
        "id": "b6333323",
        "outputId": "71a99023-35a5-4250-bbf1-b06292f29cc1"
      },
      "outputs": [
        {
          "name": "stdout",
          "output_type": "stream",
          "text": [
            "[[    0 25499]\n",
            " [    1 82565]]\n"
          ]
        }
      ],
      "source": [
        "unique, counts = np.unique(ytr, return_counts=True)\n",
        "print(np.asarray((unique, counts)).T)"
      ]
    },
    {
      "cell_type": "code",
      "execution_count": null,
      "id": "d77c83b4",
      "metadata": {
        "id": "d77c83b4"
      },
      "outputs": [],
      "source": [
        "sm = KMeansSMOTE()\n",
        "X_tr,Y_tr = sm.fit_resample(xtrr, ytr)"
      ]
    },
    {
      "cell_type": "code",
      "execution_count": null,
      "id": "4118db1d",
      "metadata": {
        "id": "4118db1d"
      },
      "outputs": [],
      "source": [
        "input_scaler2 = StandardScaler()\n",
        "X_tr = input_scaler2.fit_transform(X_tr)\n",
        "xts = input_scaler2.transform(xtss)"
      ]
    },
    {
      "cell_type": "code",
      "execution_count": null,
      "id": "91839c37",
      "metadata": {
        "id": "91839c37",
        "outputId": "30d2ef41-e6e0-4815-9432-80b328e52c81"
      },
      "outputs": [
        {
          "name": "stdout",
          "output_type": "stream",
          "text": [
            "[[    0 82568]\n",
            " [    1 82565]]\n"
          ]
        }
      ],
      "source": [
        "unique, counts = np.unique(Y_tr, return_counts=True)\n",
        "print(np.asarray((unique, counts)).T)"
      ]
    },
    {
      "cell_type": "code",
      "execution_count": null,
      "id": "a0b197cd",
      "metadata": {
        "id": "a0b197cd",
        "outputId": "20bdccfa-dd66-43b8-c76b-5b6714c73efb"
      },
      "outputs": [
        {
          "name": "stdout",
          "output_type": "stream",
          "text": [
            "--- Epoch 1 ---\n",
            "\tBCE Loss (Training) : 852.7813662067056 \n",
            "\tF-1 Score : [0.72660726 0.79505328] % \n",
            "\tTest Accuracy : 76.5727310180664 % \n",
            "--- Epoch 2 ---\n",
            "\tBCE Loss (Training) : 663.8178927469999 \n",
            "\tF-1 Score : [0.74138476 0.80385261] % \n",
            "\tTest Accuracy : 77.69091033935547 % \n",
            "--- Epoch 3 ---\n",
            "\tBCE Loss (Training) : 638.7055919123814 \n",
            "\tF-1 Score : [0.73995861 0.80515247] % \n",
            "\tTest Accuracy : 77.72272491455078 % \n",
            "--- Epoch 4 ---\n",
            "\tBCE Loss (Training) : 627.298661484383 \n",
            "\tF-1 Score : [0.74167064 0.80585964] % \n",
            "\tTest Accuracy : 77.83181762695312 % \n",
            "--- Epoch 5 ---\n",
            "\tBCE Loss (Training) : 624.3792339479551 \n",
            "\tF-1 Score : [0.74286622 0.80657879] % \n",
            "\tTest Accuracy : 77.9227294921875 % \n",
            "--- Epoch 6 ---\n",
            "\tBCE Loss (Training) : 622.5801546629518 \n",
            "\tF-1 Score : [0.74350976 0.80663292] % \n",
            "\tTest Accuracy : 77.94999694824219 % \n",
            "--- Epoch 7 ---\n",
            "\tBCE Loss (Training) : 621.3780156532302 \n",
            "\tF-1 Score : [0.74414672 0.80696997] % \n",
            "\tTest Accuracy : 77.99545288085938 % \n",
            "--- Epoch 8 ---\n",
            "\tBCE Loss (Training) : 620.482991810888 \n",
            "\tF-1 Score : [0.74499234 0.80760796] % \n",
            "\tTest Accuracy : 78.06818389892578 % \n",
            "--- Epoch 9 ---\n",
            "\tBCE Loss (Training) : 619.7428884590045 \n",
            "\tF-1 Score : [0.74519129 0.80770458] % \n",
            "\tTest Accuracy : 78.08181762695312 % \n",
            "--- Epoch 10 ---\n",
            "\tBCE Loss (Training) : 619.0810608183965 \n",
            "\tF-1 Score : [0.74563025 0.80780433] % \n",
            "\tTest Accuracy : 78.10454559326172 % \n",
            "--- Epoch 11 ---\n",
            "\tBCE Loss (Training) : 618.4714117217809 \n",
            "\tF-1 Score : [0.7458826  0.80787037] % \n",
            "\tTest Accuracy : 78.11817932128906 % \n",
            "--- Epoch 12 ---\n",
            "\tBCE Loss (Training) : 617.893446939066 \n",
            "\tF-1 Score : [0.74622612 0.80809452] % \n",
            "\tTest Accuracy : 78.14545440673828 % \n",
            "--- Epoch 13 ---\n",
            "\tBCE Loss (Training) : 617.3388631753623 \n",
            "\tF-1 Score : [0.74666245 0.80833566] % \n",
            "\tTest Accuracy : 78.1772689819336 % \n",
            "--- Epoch 14 ---\n",
            "\tBCE Loss (Training) : 616.8021743791178 \n",
            "\tF-1 Score : [0.74684813 0.8083696 ] % \n",
            "\tTest Accuracy : 78.18636322021484 % \n",
            "--- Epoch 15 ---\n",
            "\tBCE Loss (Training) : 616.2846609335393 \n",
            "\tF-1 Score : [0.74683544 0.80830671] % \n",
            "\tTest Accuracy : 78.18181610107422 % \n",
            "--- Epoch 16 ---\n",
            "\tBCE Loss (Training) : 615.784181038849 \n",
            "\tF-1 Score : [0.74727129 0.80854803] % \n",
            "\tTest Accuracy : 78.21363830566406 % \n",
            "--- Epoch 17 ---\n",
            "\tBCE Loss (Training) : 615.2960509099066 \n",
            "\tF-1 Score : [0.74749605 0.80862964] % \n",
            "\tTest Accuracy : 78.2272720336914 % \n",
            "--- Epoch 18 ---\n",
            "\tBCE Loss (Training) : 614.8216944327578 \n",
            "\tF-1 Score : [0.74761428 0.80877242] % \n",
            "\tTest Accuracy : 78.24090576171875 % \n",
            "--- Epoch 19 ---\n",
            "\tBCE Loss (Training) : 614.3620177162811 \n",
            "\tF-1 Score : [0.74799663 0.80904442] % \n",
            "\tTest Accuracy : 78.2727279663086 % \n",
            "--- Epoch 20 ---\n",
            "\tBCE Loss (Training) : 613.9123419746757 \n",
            "\tF-1 Score : [0.74814151 0.80917189] % \n",
            "\tTest Accuracy : 78.28636169433594 % \n",
            "--- Epoch 21 ---\n",
            "\tBCE Loss (Training) : 613.4738468360156 \n",
            "\tF-1 Score : [0.7482735  0.80923655] % \n",
            "\tTest Accuracy : 78.29545593261719 % \n",
            "--- Epoch 22 ---\n",
            "\tBCE Loss (Training) : 613.0466454811394 \n",
            "\tF-1 Score : [0.7483524  0.80933168] % \n",
            "\tTest Accuracy : 78.3045425415039 % \n",
            "--- Epoch 23 ---\n",
            "\tBCE Loss (Training) : 612.6283945320174 \n",
            "\tF-1 Score : [0.74868227 0.80949337] % \n",
            "\tTest Accuracy : 78.3272705078125 % \n",
            "--- Epoch 24 ---\n",
            "\tBCE Loss (Training) : 612.2213201019913 \n",
            "\tF-1 Score : [0.7487747  0.80951049] % \n",
            "\tTest Accuracy : 78.33181762695312 % \n",
            "--- Epoch 25 ---\n",
            "\tBCE Loss (Training) : 611.8205962656066 \n",
            "\tF-1 Score : [0.74918326 0.8097674 ] % \n",
            "\tTest Accuracy : 78.36363983154297 % \n",
            "--- Epoch 26 ---\n",
            "\tBCE Loss (Training) : 611.4280409365892 \n",
            "\tF-1 Score : [0.74905143 0.80970269] % \n",
            "\tTest Accuracy : 78.35454559326172 % \n",
            "--- Epoch 27 ---\n",
            "\tBCE Loss (Training) : 611.0429988401011 \n",
            "\tF-1 Score : [0.74911735 0.80973504] % \n",
            "\tTest Accuracy : 78.35909271240234 % \n",
            "--- Epoch 28 ---\n",
            "\tBCE Loss (Training) : 610.6649464545771 \n",
            "\tF-1 Score : [0.74924917 0.80979977] % \n",
            "\tTest Accuracy : 78.36817932128906 % \n",
            "--- Epoch 29 ---\n",
            "\tBCE Loss (Training) : 610.2936631403863 \n",
            "\tF-1 Score : [0.74934148 0.80981693] % \n",
            "\tTest Accuracy : 78.37272644042969 % \n",
            "--- Epoch 30 ---\n",
            "\tBCE Loss (Training) : 609.9309676000848 \n",
            "\tF-1 Score : [0.7497498  0.81007396] % \n",
            "\tTest Accuracy : 78.40454864501953 % \n",
            "--- Epoch 31 ---\n",
            "\tBCE Loss (Training) : 609.5717695644125 \n",
            "\tF-1 Score : [0.74960497 0.80994643] % \n",
            "\tTest Accuracy : 78.39090728759766 % \n",
            "--- Epoch 32 ---\n",
            "\tBCE Loss (Training) : 609.2191245956346 \n",
            "\tF-1 Score : [0.74965771 0.80991603] % \n",
            "\tTest Accuracy : 78.39090728759766 % \n",
            "--- Epoch 33 ---\n",
            "\tBCE Loss (Training) : 608.8709172476083 \n",
            "\tF-1 Score : [0.74965771 0.80991603] % \n",
            "\tTest Accuracy : 78.39090728759766 % \n",
            "--- Epoch 34 ---\n",
            "\tBCE Loss (Training) : 608.5277078449726 \n",
            "\tF-1 Score : [0.74998684 0.81007798] % \n",
            "\tTest Accuracy : 78.41363525390625 % \n",
            "--- Epoch 35 ---\n",
            "\tBCE Loss (Training) : 608.1892082877457 \n",
            "\tF-1 Score : [0.75006581 0.81017315] % \n",
            "\tTest Accuracy : 78.4227294921875 % \n",
            "--- Epoch 36 ---\n",
            "\tBCE Loss (Training) : 607.8553511779755 \n",
            "\tF-1 Score : [0.75017112 0.81025313] % \n",
            "\tTest Accuracy : 78.43181610107422 % \n",
            "--- Epoch 37 ---\n",
            "\tBCE Loss (Training) : 607.5257466351613 \n",
            "\tF-1 Score : [0.75014481 0.8102683 ] % \n",
            "\tTest Accuracy : 78.43181610107422 % \n",
            "--- Epoch 38 ---\n",
            "\tBCE Loss (Training) : 607.2002987526357 \n",
            "\tF-1 Score : [0.75044751 0.81044549] % \n",
            "\tTest Accuracy : 78.45454406738281 % \n",
            "--- Epoch 39 ---\n",
            "\tBCE Loss (Training) : 606.8816817589104 \n",
            "\tF-1 Score : [0.75060533 0.81049516] % \n",
            "\tTest Accuracy : 78.46363830566406 % \n",
            "--- Epoch 40 ---\n",
            "\tBCE Loss (Training) : 606.563877813518 \n",
            "\tF-1 Score : [0.75080259 0.81059242] % \n",
            "\tTest Accuracy : 78.4772720336914 % \n",
            "--- Epoch 41 ---\n",
            "\tBCE Loss (Training) : 606.2496863678098 \n",
            "\tF-1 Score : [0.75090785 0.81067243] % \n",
            "\tTest Accuracy : 78.48636627197266 % \n",
            "--- Epoch 42 ---\n",
            "\tBCE Loss (Training) : 605.9389459351078 \n",
            "\tF-1 Score : [0.75123645 0.8108346 ] % \n",
            "\tTest Accuracy : 78.50909423828125 % \n",
            "--- Epoch 43 ---\n",
            "\tBCE Loss (Training) : 605.6314581669867 \n",
            "\tF-1 Score : [0.751394   0.81088435] % \n",
            "\tTest Accuracy : 78.51818084716797 % \n",
            "--- Epoch 44 ---\n",
            "\tBCE Loss (Training) : 605.3272263770923 \n",
            "\tF-1 Score : [0.75143353 0.81093194] % \n",
            "\tTest Accuracy : 78.5227279663086 % \n",
            "--- Epoch 45 ---\n",
            "\tBCE Loss (Training) : 605.0259982515126 \n",
            "\tF-1 Score : [0.75153874 0.81101196] % \n",
            "\tTest Accuracy : 78.53181457519531 % \n",
            "--- Epoch 46 ---\n",
            "\tBCE Loss (Training) : 604.727691357024 \n",
            "\tF-1 Score : [0.75173575 0.81110933] % \n",
            "\tTest Accuracy : 78.54545593261719 % \n",
            "--- Epoch 47 ---\n",
            "\tBCE Loss (Training) : 604.4321892457083 \n",
            "\tF-1 Score : [0.75177529 0.81115691] % \n",
            "\tTest Accuracy : 78.55000305175781 % \n",
            "--- Epoch 48 ---\n",
            "\tBCE Loss (Training) : 604.1394617352635 \n",
            "\tF-1 Score : [0.75177529 0.81115691] % \n",
            "\tTest Accuracy : 78.55000305175781 % \n",
            "--- Epoch 49 ---\n",
            "\tBCE Loss (Training) : 603.8492645267397 \n",
            "\tF-1 Score : [0.75188049 0.81123694] % \n",
            "\tTest Accuracy : 78.55908966064453 % \n",
            "--- Epoch 50 ---\n",
            "\tBCE Loss (Training) : 603.5626290980726 \n",
            "\tF-1 Score : [0.75188049 0.81123694] % \n",
            "\tTest Accuracy : 78.55908966064453 % \n",
            "--- Epoch 51 ---\n",
            "\tBCE Loss (Training) : 603.2774418061599 \n",
            "\tF-1 Score : [0.75214304 0.81136682] % \n",
            "\tTest Accuracy : 78.5772705078125 % \n",
            "--- Epoch 52 ---\n",
            "\tBCE Loss (Training) : 602.9946449631825 \n",
            "\tF-1 Score : [0.75224823 0.81144687] % \n",
            "\tTest Accuracy : 78.58636474609375 % \n",
            "--- Epoch 53 ---\n",
            "\tBCE Loss (Training) : 602.7141697304323 \n",
            "\tF-1 Score : [0.75244505 0.81154431] % \n",
            "\tTest Accuracy : 78.5999984741211 % \n",
            "--- Epoch 54 ---\n",
            "\tBCE Loss (Training) : 602.4357193931937 \n",
            "\tF-1 Score : [0.75255022 0.81162437] % \n",
            "\tTest Accuracy : 78.60909271240234 % \n",
            "--- Epoch 55 ---\n",
            "\tBCE Loss (Training) : 602.1597325876355 \n",
            "\tF-1 Score : [0.75265538 0.81170443] % \n",
            "\tTest Accuracy : 78.61817932128906 % \n",
            "--- Epoch 56 ---\n",
            "\tBCE Loss (Training) : 601.8891618615016 \n",
            "\tF-1 Score : [0.75285211 0.81180191] % \n",
            "\tTest Accuracy : 78.63182067871094 % \n",
            "--- Epoch 57 ---\n",
            "\tBCE Loss (Training) : 601.6171900676563 \n",
            "\tF-1 Score : [0.75287809 0.81178684] % \n",
            "\tTest Accuracy : 78.63182067871094 % \n",
            "--- Epoch 58 ---\n",
            "\tBCE Loss (Training) : 601.3471975401044 \n",
            "\tF-1 Score : [0.75287809 0.81178684] % \n",
            "\tTest Accuracy : 78.63182067871094 % \n",
            "--- Epoch 59 ---\n",
            "\tBCE Loss (Training) : 601.0790331978351 \n",
            "\tF-1 Score : [0.75294365 0.81181935] % \n",
            "\tTest Accuracy : 78.63636016845703 % \n",
            "--- Epoch 60 ---\n",
            "\tBCE Loss (Training) : 600.8128375811502 \n",
            "\tF-1 Score : [0.75294365 0.81181935] % \n",
            "\tTest Accuracy : 78.63636016845703 % \n",
            "--- Epoch 61 ---\n"
          ]
        },
        {
          "name": "stdout",
          "output_type": "stream",
          "text": [
            "\tBCE Loss (Training) : 600.5484429532662 \n",
            "\tF-1 Score : [0.75314027 0.81191687] % \n",
            "\tTest Accuracy : 78.6500015258789 % \n",
            "--- Epoch 62 ---\n",
            "\tBCE Loss (Training) : 600.2858917536214 \n",
            "\tF-1 Score : [0.75307474 0.81188436] % \n",
            "\tTest Accuracy : 78.64545440673828 % \n",
            "--- Epoch 63 ---\n",
            "\tBCE Loss (Training) : 600.0249005788937 \n",
            "\tF-1 Score : [0.75324539 0.81199696] % \n",
            "\tTest Accuracy : 78.65908813476562 % \n",
            "--- Epoch 64 ---\n",
            "\tBCE Loss (Training) : 599.7657674280927 \n",
            "\tF-1 Score : [0.7531935  0.81202706] % \n",
            "\tTest Accuracy : 78.65908813476562 % \n",
            "--- Epoch 65 ---\n",
            "\tBCE Loss (Training) : 599.5080907102674 \n",
            "\tF-1 Score : [0.7532331  0.81207463] % \n",
            "\tTest Accuracy : 78.66363525390625 % \n",
            "--- Epoch 66 ---\n",
            "\tBCE Loss (Training) : 599.2522907033563 \n",
            "\tF-1 Score : [0.7532331  0.81207463] % \n",
            "\tTest Accuracy : 78.66363525390625 % \n",
            "--- Epoch 67 ---\n",
            "\tBCE Loss (Training) : 598.9978581825271 \n",
            "\tF-1 Score : [0.75333824 0.8121547 ] % \n",
            "\tTest Accuracy : 78.6727294921875 % \n",
            "--- Epoch 68 ---\n",
            "\tBCE Loss (Training) : 598.7451414894313 \n",
            "\tF-1 Score : [0.75340377 0.81218721] % \n",
            "\tTest Accuracy : 78.6772689819336 % \n",
            "--- Epoch 69 ---\n",
            "\tBCE Loss (Training) : 598.4937659092247 \n",
            "\tF-1 Score : [0.75360034 0.81228478] % \n",
            "\tTest Accuracy : 78.69091033935547 % \n",
            "--- Epoch 70 ---\n",
            "\tBCE Loss (Training) : 598.2439133469015 \n",
            "\tF-1 Score : [0.75356073 0.81223722] % \n",
            "\tTest Accuracy : 78.68636322021484 % \n",
            "--- Epoch 71 ---\n",
            "\tBCE Loss (Training) : 597.9956214977428 \n",
            "\tF-1 Score : [0.75356073 0.81223722] % \n",
            "\tTest Accuracy : 78.68636322021484 % \n",
            "--- Epoch 72 ---\n",
            "\tBCE Loss (Training) : 597.7486018789932 \n",
            "\tF-1 Score : [0.75358663 0.81222218] % \n",
            "\tTest Accuracy : 78.68636322021484 % \n",
            "--- Epoch 73 ---\n",
            "\tBCE Loss (Training) : 597.5030950959772 \n",
            "\tF-1 Score : [0.75362624 0.81226974] % \n",
            "\tTest Accuracy : 78.69091033935547 % \n",
            "--- Epoch 74 ---\n",
            "\tBCE Loss (Training) : 597.2589379837736 \n",
            "\tF-1 Score : [0.75375723 0.8123348 ] % \n",
            "\tTest Accuracy : 78.69999694824219 % \n",
            "--- Epoch 75 ---\n",
            "\tBCE Loss (Training) : 597.0159007143229 \n",
            "\tF-1 Score : [0.75369173 0.81230227] % \n",
            "\tTest Accuracy : 78.6954574584961 % \n",
            "--- Epoch 76 ---\n",
            "\tBCE Loss (Training) : 596.7743955282494 \n",
            "\tF-1 Score : [0.75384858 0.81235231] % \n",
            "\tTest Accuracy : 78.70454406738281 % \n",
            "--- Epoch 77 ---\n",
            "\tBCE Loss (Training) : 596.5341232866049 \n",
            "\tF-1 Score : [0.75399327 0.81247997] % \n",
            "\tTest Accuracy : 78.71818542480469 % \n",
            "--- Epoch 78 ---\n",
            "\tBCE Loss (Training) : 596.2951361676678 \n",
            "\tF-1 Score : [0.75405874 0.81251252] % \n",
            "\tTest Accuracy : 78.72272491455078 % \n",
            "--- Epoch 79 ---\n",
            "\tBCE Loss (Training) : 596.0573194967583 \n",
            "\tF-1 Score : [0.75438596 0.81267527] % \n",
            "\tTest Accuracy : 78.74545288085938 % \n",
            "--- Epoch 80 ---\n",
            "\tBCE Loss (Training) : 595.8208095906302 \n",
            "\tF-1 Score : [0.75445139 0.81270782] % \n",
            "\tTest Accuracy : 78.75 % \n",
            "--- Epoch 81 ---\n",
            "\tBCE Loss (Training) : 595.5855310456827 \n",
            "\tF-1 Score : [0.75451681 0.81274038] % \n",
            "\tTest Accuracy : 78.75454711914062 % \n",
            "--- Epoch 82 ---\n",
            "\tBCE Loss (Training) : 595.3512726761401 \n",
            "\tF-1 Score : [0.75477841 0.81287065] % \n",
            "\tTest Accuracy : 78.7727279663086 % \n",
            "--- Epoch 83 ---\n",
            "\tBCE Loss (Training) : 595.1183040272444 \n",
            "\tF-1 Score : [0.75484379 0.81290323] % \n",
            "\tTest Accuracy : 78.77727508544922 % \n",
            "--- Epoch 84 ---\n",
            "\tBCE Loss (Training) : 594.8865171168 \n",
            "\tF-1 Score : [0.75497454 0.81296838] % \n",
            "\tTest Accuracy : 78.78636169433594 % \n",
            "--- Epoch 85 ---\n",
            "\tBCE Loss (Training) : 594.6558143468574 \n",
            "\tF-1 Score : [0.75497454 0.81296838] % \n",
            "\tTest Accuracy : 78.78636169433594 % \n",
            "--- Epoch 86 ---\n",
            "\tBCE Loss (Training) : 594.4261468583718 \n",
            "\tF-1 Score : [0.75510525 0.81303355] % \n",
            "\tTest Accuracy : 78.79545593261719 % \n",
            "--- Epoch 87 ---\n",
            "\tBCE Loss (Training) : 594.1975775053725 \n",
            "\tF-1 Score : [0.7551706  0.81306613] % \n",
            "\tTest Accuracy : 78.80000305175781 % \n",
            "--- Epoch 88 ---\n",
            "\tBCE Loss (Training) : 593.9701984785497 \n",
            "\tF-1 Score : [0.75530128 0.81313131] % \n",
            "\tTest Accuracy : 78.80908966064453 % \n",
            "--- Epoch 89 ---\n",
            "\tBCE Loss (Training) : 593.7437686026096 \n",
            "\tF-1 Score : [0.75539229 0.81314893] % \n",
            "\tTest Accuracy : 78.81363677978516 % \n",
            "--- Epoch 90 ---\n",
            "\tBCE Loss (Training) : 593.5184564990923 \n",
            "\tF-1 Score : [0.75539229 0.81314893] % \n",
            "\tTest Accuracy : 78.81363677978516 % \n",
            "--- Epoch 91 ---\n",
            "\tBCE Loss (Training) : 593.2941249562427 \n",
            "\tF-1 Score : [0.75539229 0.81314893] % \n",
            "\tTest Accuracy : 78.81363677978516 % \n",
            "--- Epoch 92 ---\n",
            "\tBCE Loss (Training) : 593.0708258524537 \n",
            "\tF-1 Score : [0.7555882  0.81324673] % \n",
            "\tTest Accuracy : 78.8272705078125 % \n",
            "--- Epoch 93 ---\n",
            "\tBCE Loss (Training) : 592.8484580507502 \n",
            "\tF-1 Score : [0.75557421 0.81318417] % \n",
            "\tTest Accuracy : 78.8227310180664 % \n",
            "--- Epoch 94 ---\n",
            "\tBCE Loss (Training) : 592.62722949218 \n",
            "\tF-1 Score : [0.75563949 0.81321678] % \n",
            "\tTest Accuracy : 78.8272705078125 % \n",
            "--- Epoch 95 ---\n",
            "\tBCE Loss (Training) : 592.4069321220741 \n",
            "\tF-1 Score : [0.75574441 0.81329698] % \n",
            "\tTest Accuracy : 78.83636474609375 % \n",
            "--- Epoch 96 ---\n",
            "\tBCE Loss (Training) : 592.1875188499689 \n",
            "\tF-1 Score : [0.75580968 0.81332959] % \n",
            "\tTest Accuracy : 78.84091186523438 % \n",
            "--- Epoch 97 ---\n",
            "\tBCE Loss (Training) : 591.9691097317263 \n",
            "\tF-1 Score : [0.75592865 0.81347233] % \n",
            "\tTest Accuracy : 78.85454559326172 % \n",
            "--- Epoch 98 ---\n",
            "\tBCE Loss (Training) : 591.7515936912969 \n",
            "\tF-1 Score : [0.75599391 0.81350495] % \n",
            "\tTest Accuracy : 78.85909271240234 % \n",
            "--- Epoch 99 ---\n",
            "\tBCE Loss (Training) : 591.534948551096 \n",
            "\tF-1 Score : [0.75595425 0.81345737] % \n",
            "\tTest Accuracy : 78.85454559326172 % \n",
            "--- Epoch 100 ---\n",
            "\tBCE Loss (Training) : 591.3193369517103 \n",
            "\tF-1 Score : [0.75601951 0.81348999] % \n",
            "\tTest Accuracy : 78.85909271240234 % \n"
          ]
        }
      ],
      "source": [
        "model2 = SimpleClassifier().to(device)\n",
        "loss_fn2 = nn.BCELoss()\n",
        "optimizer2 = torch.optim.Adam(model2.parameters())\n",
        "batch_size2 = bs\n",
        "epochs2 = epoch\n",
        "\n",
        "LOSS = []\n",
        "ACC = []\n",
        "F1SC = []\n",
        "\n",
        "for i in range(epochs2):\n",
        "    print(\"--- Epoch {} ---\".format(i+1))\n",
        "    epoch_loss = train(model2, X_tr, Y_tr, loss_fn2, optimizer2, batch_size2)\n",
        "    LOSS.append(epoch_loss)\n",
        "    print(\"\\tBCE Loss (Training) : {} \".format(epoch_loss))\n",
        "    accr,f1_sc = test(model2, xts, yts)\n",
        "    ACC.append(accr)\n",
        "    F1SC.append(f1_sc)"
      ]
    },
    {
      "cell_type": "code",
      "execution_count": null,
      "id": "a11a2172",
      "metadata": {
        "id": "a11a2172",
        "outputId": "3b6d8116-7a0d-40b6-f90e-4482a99ba719"
      },
      "outputs": [
        {
          "data": {
            "text/plain": [
              "<matplotlib.legend.Legend at 0x1f9811fd3c8>"
            ]
          },
          "execution_count": 41,
          "metadata": {},
          "output_type": "execute_result"
        },
        {
          "data": {
            "image/png": "[encoded data removed]",
            "text/plain": [
              "<Figure size 1296x432 with 3 Axes>"
            ]
          },
          "metadata": {
            "needs_background": "light"
          },
          "output_type": "display_data"
        }
      ],
      "source": [
        "xx = np.arange(epochs)\n",
        "acc = torch.Tensor(ACC).detach().cpu().numpy()\n",
        "lss = torch.Tensor(LOSS).detach().cpu().numpy()\n",
        "f1sc = torch.Tensor(F1SC).detach().cpu().numpy()\n",
        "fig, (ax1, ax2, ax3) = plt.subplots(1, 3,figsize=(18,6))\n",
        "fig.suptitle('ACC vs LOSS vs F1-SCORE')\n",
        "ax1.plot(xx, acc, c='green')\n",
        "ax2.plot(xx, lss, c='red')\n",
        "ax3.plot(xx, f1sc[:,0], c='orange',label=\"electron\")\n",
        "ax3.plot(xx, f1sc[:,1], c='blue',label=\"muon\")\n",
        "ax3.legend(loc='best')\n"
      ]
    },
    {
      "cell_type": "markdown",
      "id": "013292a0",
      "metadata": {
        "id": "013292a0"
      },
      "source": [
        "# Q3. MNIST Handwritten Digit Recognition Classification"
      ]
    },
    {
      "cell_type": "code",
      "execution_count": null,
      "id": "9dca739d",
      "metadata": {
        "id": "9dca739d",
        "outputId": "36af0d35-115f-4879-aea5-5f4989babc83"
      },
      "outputs": [
        {
          "name": "stdout",
          "output_type": "stream",
          "text": [
            "dict_keys(['data', 'target', 'frame', 'categories', 'feature_names', 'target_names', 'DESCR', 'details', 'url'])\n"
          ]
        }
      ],
      "source": [
        "mnist_data = fetch_openml('mnist_784', version=1)\n",
        "print(mnist_data.keys())"
      ]
    },
    {
      "cell_type": "code",
      "execution_count": null,
      "id": "5923fab1",
      "metadata": {
        "id": "5923fab1",
        "outputId": "ea3951db-ad15-465f-978e-ac9fcf454e50"
      },
      "outputs": [
        {
          "name": "stdout",
          "output_type": "stream",
          "text": [
            "Shape of X_train: (56000, 784)\n",
            "Shape of y_train: (56000,)\n",
            "Shape of X_test: (14000, 784)\n",
            "Shape of y_test: (14000,)\n"
          ]
        }
      ],
      "source": [
        "X_full, y_full = mnist_data['data'].to_numpy().astype(int), mnist_data['target'].to_numpy().astype(int)\n",
        "\n",
        "X_train, X_test, y_train, y_test = train_test_split(X_full, y_full, test_size=0.2, random_state=1)\n",
        "\n",
        "print(f\"Shape of X_train: {X_train.shape}\")\n",
        "print(f\"Shape of y_train: {y_train.shape}\")\n",
        "print(f\"Shape of X_test: {X_test.shape}\")\n",
        "print(f\"Shape of y_test: {y_test.shape}\")"
      ]
    },
    {
      "cell_type": "markdown",
      "id": "28df3192",
      "metadata": {
        "id": "28df3192"
      },
      "source": [
        "## Define train and test functions for (a) - (d)"
      ]
    },
    {
      "cell_type": "code",
      "execution_count": null,
      "id": "0394d41b",
      "metadata": {
        "id": "0394d41b"
      },
      "outputs": [],
      "source": [
        "def train_MNIST(model, x, y, loss_fn, optimizer, batch_size=128):\n",
        "    model.train()\n",
        "    x, y = torch.Tensor(x), torch.Tensor(y)\n",
        "    y = y.type(torch.LongTensor)\n",
        "    epoch_loss = 0\n",
        "    \n",
        "    for i in range(0, len(x), batch_size):\n",
        "        i_end = i+batch_size\n",
        "        x_batch = x[i:min(i_end, len(x))]\n",
        "        y_batch = y[i:min(i_end, len(x))]\n",
        "        \n",
        "        pred = model(x_batch)\n",
        "        loss = loss_fn(pred, y_batch)\n",
        "        epoch_loss = epoch_loss + loss.item()\n",
        "        \n",
        "        optimizer.zero_grad()\n",
        "        loss.backward()\n",
        "        optimizer.step()\n",
        "        \n",
        "    return epoch_loss"
      ]
    },
    {
      "cell_type": "code",
      "execution_count": null,
      "id": "378caa45",
      "metadata": {
        "id": "378caa45"
      },
      "outputs": [],
      "source": [
        "def test_MNIST(model, xts, yts):\n",
        "    model.eval()\n",
        "    with torch.no_grad():\n",
        "        xts = torch.Tensor(xts)\n",
        "        pred = model(xts)\n",
        "        yhat = np.argmax(pred, axis=1).numpy()\n",
        "        acc = np.sum(yhat==yts)*100/yhat.shape[0]\n",
        "        f1_scr = f1_score(yts, yhat, average=None).reshape(-1,1)\n",
        "        return acc,f1_scr"
      ]
    },
    {
      "cell_type": "markdown",
      "id": "dfeb98e3",
      "metadata": {
        "id": "dfeb98e3"
      },
      "source": [
        "## (a) using 10 perceptrons"
      ]
    },
    {
      "cell_type": "code",
      "execution_count": null,
      "id": "7d3a8cda",
      "metadata": {
        "id": "7d3a8cda"
      },
      "outputs": [],
      "source": [
        "class MNIST_PERCPT(nn.Module):\n",
        "    def __init__(self):\n",
        "        super().__init__()\n",
        "        self.op = nn.Linear(in_features=784, out_features=10)\n",
        "        self.act1 = nn.Softmax()\n",
        "          \n",
        "    def forward(self, x):\n",
        "        x = self.op(x)\n",
        "        x = self.act1(x)\n",
        "        return x.squeeze()"
      ]
    },
    {
      "cell_type": "code",
      "execution_count": null,
      "id": "125addaf",
      "metadata": {
        "scrolled": true,
        "id": "125addaf",
        "outputId": "6b943b82-4313-4e13-a333-17470be94c34"
      },
      "outputs": [
        {
          "name": "stdout",
          "output_type": "stream",
          "text": [
            "--- Epoch 1 ---\n",
            "\tCross-Entropy Loss (Training): 870.8215721845627 \n",
            "--- Epoch 2 ---\n",
            "\tCross-Entropy Loss (Training): 834.5005272626877 \n",
            "--- Epoch 3 ---\n",
            "\tCross-Entropy Loss (Training): 831.9443440437317 \n",
            "--- Epoch 4 ---\n",
            "\tCross-Entropy Loss (Training): 830.8454670906067 \n",
            "--- Epoch 5 ---\n",
            "\tCross-Entropy Loss (Training): 832.9690885543823 \n",
            "--- Epoch 6 ---\n",
            "\tCross-Entropy Loss (Training): 829.4519348144531 \n",
            "--- Epoch 7 ---\n",
            "\tCross-Entropy Loss (Training): 829.6020083427429 \n",
            "--- Epoch 8 ---\n",
            "\tCross-Entropy Loss (Training): 828.994991183281 \n",
            "--- Epoch 9 ---\n",
            "\tCross-Entropy Loss (Training): 828.8871743679047 \n",
            "--- Epoch 10 ---\n",
            "\tCross-Entropy Loss (Training): 828.356418967247 \n",
            "--- Epoch 11 ---\n",
            "\tCross-Entropy Loss (Training): 828.1664642095566 \n",
            "--- Epoch 12 ---\n",
            "\tCross-Entropy Loss (Training): 827.227869272232 \n",
            "--- Epoch 13 ---\n",
            "\tCross-Entropy Loss (Training): 828.9921108484268 \n",
            "--- Epoch 14 ---\n",
            "\tCross-Entropy Loss (Training): 826.9949971437454 \n",
            "--- Epoch 15 ---\n",
            "\tCross-Entropy Loss (Training): 820.1007953882217 \n",
            "--- Epoch 16 ---\n",
            "\tCross-Entropy Loss (Training): 815.891239285469 \n",
            "--- Epoch 17 ---\n",
            "\tCross-Entropy Loss (Training): 809.1989147663116 \n",
            "--- Epoch 18 ---\n",
            "\tCross-Entropy Loss (Training): 804.8774876594543 \n",
            "--- Epoch 19 ---\n",
            "\tCross-Entropy Loss (Training): 802.6224927902222 \n",
            "--- Epoch 20 ---\n",
            "\tCross-Entropy Loss (Training): 786.5640358924866 \n",
            "\n",
            "\n",
            "Test Accuracy: 69.27857142857142 % \n",
            "Class-wise F1 score:\n",
            "[[0.        ]\n",
            " [0.95791091]\n",
            " [0.71990535]\n",
            " [0.85008347]\n",
            " [0.78981302]\n",
            " [0.56091148]\n",
            " [0.        ]\n",
            " [0.88239203]\n",
            " [0.66364606]\n",
            " [0.75242514]]\n"
          ]
        }
      ],
      "source": [
        "model = MNIST_PERCPT()\n",
        "loss_fn = nn.CrossEntropyLoss()\n",
        "optimizer = torch.optim.Adam(model.parameters())\n",
        "batch_size = 128\n",
        "epochs = 20\n",
        "\n",
        "for i in range(epochs):\n",
        "    print(\"--- Epoch {} ---\".format(i+1))\n",
        "    epoch_loss = train_MNIST(model, X_train, y_train, loss_fn, optimizer, batch_size)\n",
        "    print(\"\\tCross-Entropy Loss (Training): {} \".format(epoch_loss))\n",
        "\n",
        "acc, f1_scr = test_MNIST(model, X_test, y_test)\n",
        "print(\"\\n\")\n",
        "print(\"Test Accuracy: {} % \".format(acc))\n",
        "print(\"Class-wise F1 score:\\n{}\".format(f1_scr.reshape(-1,1)))\n",
        "\n",
        "all_models = np.array([model, acc, f1_scr]).reshape(1,-1)"
      ]
    },
    {
      "cell_type": "markdown",
      "id": "16a5caf8",
      "metadata": {
        "id": "16a5caf8"
      },
      "source": [
        "## (b) visualization of weights"
      ]
    },
    {
      "cell_type": "code",
      "execution_count": null,
      "id": "1d7bd284",
      "metadata": {
        "id": "1d7bd284",
        "outputId": "1c607777-6de1-49ee-93b6-9d9f303360f7"
      },
      "outputs": [
        {
          "data": {
            "image/png": "[encoded data removed]",
            "text/plain": [
              "<Figure size 720x360 with 10 Axes>"
            ]
          },
          "metadata": {},
          "output_type": "display_data"
        }
      ],
      "source": [
        "wgts = model.op.state_dict()['weight'].numpy()\n",
        "plt.figure(figsize=(10,5))\n",
        "for i in range(10):\n",
        "    plt.subplot(2,5,i+1)\n",
        "    plt.imshow(wgts[i,:].reshape(28,28))\n",
        "    plt.xticks([])\n",
        "    plt.yticks([])"
      ]
    },
    {
      "cell_type": "markdown",
      "id": "2b751b81",
      "metadata": {
        "id": "2b751b81"
      },
      "source": [
        "## (c) using MLP (single hidden layer)"
      ]
    },
    {
      "cell_type": "code",
      "execution_count": null,
      "id": "919b6d4c",
      "metadata": {
        "id": "919b6d4c"
      },
      "outputs": [],
      "source": [
        "class MNIST_MLP1(nn.Module):\n",
        "    def __init__(self, n_hl1):\n",
        "        super().__init__()\n",
        "        self.hl1 = nn.Linear(in_features=784, out_features=n_hl1)\n",
        "        self.act1 = nn.ReLU()\n",
        "        self.op = nn.Linear(in_features=n_hl1, out_features=10)\n",
        "        self.act2 = nn.Softmax()\n",
        "        \n",
        "    def forward(self, x):\n",
        "        x = self.hl1(x)\n",
        "        x = self.act1(x)\n",
        "        x = self.op(x)\n",
        "        x = self.act2(x)\n",
        "        return x.squeeze()"
      ]
    },
    {
      "cell_type": "code",
      "execution_count": null,
      "id": "8289b558",
      "metadata": {
        "id": "8289b558",
        "outputId": "20d4b632-61c9-4fcd-e4e8-410dfb34328f"
      },
      "outputs": [
        {
          "name": "stdout",
          "output_type": "stream",
          "text": [
            "--- Epoch 1 ---\n",
            "\tCross-Entropy Loss (Training): 832.3887763023376 \n",
            "--- Epoch 2 ---\n",
            "\tCross-Entropy Loss (Training): 800.6145894527435 \n",
            "--- Epoch 3 ---\n",
            "\tCross-Entropy Loss (Training): 796.5329902172089 \n",
            "--- Epoch 4 ---\n",
            "\tCross-Entropy Loss (Training): 763.2359402179718 \n",
            "--- Epoch 5 ---\n",
            "\tCross-Entropy Loss (Training): 757.2175923585892 \n",
            "--- Epoch 6 ---\n",
            "\tCross-Entropy Loss (Training): 757.0634902715683 \n",
            "--- Epoch 7 ---\n",
            "\tCross-Entropy Loss (Training): 756.734099984169 \n",
            "--- Epoch 8 ---\n",
            "\tCross-Entropy Loss (Training): 754.8352460861206 \n",
            "--- Epoch 9 ---\n",
            "\tCross-Entropy Loss (Training): 753.6866776943207 \n",
            "--- Epoch 10 ---\n",
            "\tCross-Entropy Loss (Training): 755.0890573263168 \n",
            "--- Epoch 11 ---\n",
            "\tCross-Entropy Loss (Training): 754.0013757944107 \n",
            "--- Epoch 12 ---\n",
            "\tCross-Entropy Loss (Training): 752.5032896995544 \n",
            "--- Epoch 13 ---\n",
            "\tCross-Entropy Loss (Training): 753.7507690191269 \n",
            "--- Epoch 14 ---\n",
            "\tCross-Entropy Loss (Training): 753.5811601877213 \n",
            "--- Epoch 15 ---\n",
            "\tCross-Entropy Loss (Training): 754.2032891511917 \n",
            "--- Epoch 16 ---\n",
            "\tCross-Entropy Loss (Training): 752.5681198835373 \n",
            "--- Epoch 17 ---\n",
            "\tCross-Entropy Loss (Training): 752.1523160934448 \n",
            "--- Epoch 18 ---\n",
            "\tCross-Entropy Loss (Training): 751.5345400571823 \n",
            "--- Epoch 19 ---\n",
            "\tCross-Entropy Loss (Training): 752.4268997907639 \n",
            "--- Epoch 20 ---\n",
            "\tCross-Entropy Loss (Training): 750.7398737668991 \n",
            "\n",
            "\n",
            "Test Accuracy: 73.58571428571429 % \n",
            "Class-wise F1 score:\n",
            "[[0.93777452]\n",
            " [0.94095477]\n",
            " [0.83803487]\n",
            " [0.        ]\n",
            " [0.        ]\n",
            " [0.75877763]\n",
            " [0.85548739]\n",
            " [0.90922348]\n",
            " [0.68869192]\n",
            " [0.67677315]]\n"
          ]
        }
      ],
      "source": [
        "model = MNIST_MLP1(n_hl1=10)\n",
        "loss_fn = nn.CrossEntropyLoss()\n",
        "optimizer = torch.optim.Adam(model.parameters())\n",
        "batch_size = 128\n",
        "epochs = 20\n",
        "\n",
        "for i in range(epochs):\n",
        "    print(\"--- Epoch {} ---\".format(i+1))\n",
        "    epoch_loss = train_MNIST(model, X_train, y_train, loss_fn, optimizer, batch_size)\n",
        "    print(\"\\tCross-Entropy Loss (Training): {} \".format(epoch_loss))\n",
        "\n",
        "acc, f1_scr = test_MNIST(model, X_test, y_test)\n",
        "print(\"\\n\")\n",
        "print(\"Test Accuracy: {} % \".format(acc))\n",
        "print(\"Class-wise F1 score:\\n{}\".format(f1_scr.reshape(-1,1)))\n",
        "\n",
        "all_models = np.append(all_models, np.array([model, acc, f1_scr]).reshape(1,-1),axis=0)"
      ]
    },
    {
      "cell_type": "code",
      "execution_count": null,
      "id": "e9e42d74",
      "metadata": {
        "id": "e9e42d74",
        "outputId": "d66f9cb9-60bb-4e80-9436-1589a58eff32"
      },
      "outputs": [
        {
          "name": "stdout",
          "output_type": "stream",
          "text": [
            "--- Epoch 1 ---\n",
            "\tCross-Entropy Loss (Training): 791.4798711538315 \n",
            "--- Epoch 2 ---\n",
            "\tCross-Entropy Loss (Training): 761.1266986131668 \n",
            "--- Epoch 3 ---\n",
            "\tCross-Entropy Loss (Training): 757.3964221477509 \n",
            "--- Epoch 4 ---\n",
            "\tCross-Entropy Loss (Training): 755.3934651613235 \n",
            "--- Epoch 5 ---\n",
            "\tCross-Entropy Loss (Training): 754.9444359540939 \n",
            "--- Epoch 6 ---\n",
            "\tCross-Entropy Loss (Training): 753.2364029884338 \n",
            "--- Epoch 7 ---\n",
            "\tCross-Entropy Loss (Training): 734.3146904706955 \n",
            "--- Epoch 8 ---\n",
            "\tCross-Entropy Loss (Training): 727.6183474063873 \n",
            "--- Epoch 9 ---\n",
            "\tCross-Entropy Loss (Training): 723.9083037376404 \n",
            "--- Epoch 10 ---\n",
            "\tCross-Entropy Loss (Training): 723.0231400728226 \n",
            "--- Epoch 11 ---\n",
            "\tCross-Entropy Loss (Training): 721.7129198312759 \n",
            "--- Epoch 12 ---\n",
            "\tCross-Entropy Loss (Training): 720.8049951791763 \n",
            "--- Epoch 13 ---\n",
            "\tCross-Entropy Loss (Training): 719.9400365352631 \n",
            "--- Epoch 14 ---\n",
            "\tCross-Entropy Loss (Training): 720.8031233549118 \n",
            "--- Epoch 15 ---\n",
            "\tCross-Entropy Loss (Training): 721.3352645635605 \n",
            "--- Epoch 16 ---\n",
            "\tCross-Entropy Loss (Training): 717.5824637413025 \n",
            "--- Epoch 17 ---\n",
            "\tCross-Entropy Loss (Training): 718.0344549417496 \n",
            "--- Epoch 18 ---\n",
            "\tCross-Entropy Loss (Training): 717.2050300836563 \n",
            "--- Epoch 19 ---\n",
            "\tCross-Entropy Loss (Training): 716.7226796150208 \n",
            "--- Epoch 20 ---\n",
            "\tCross-Entropy Loss (Training): 716.8811169862747 \n",
            "\n",
            "\n",
            "Test Accuracy: 80.80714285714286 % \n",
            "Class-wise F1 score:\n",
            "[[0.94299789]\n",
            " [0.        ]\n",
            " [0.83476055]\n",
            " [0.71863321]\n",
            " [0.92653673]\n",
            " [0.87201007]\n",
            " [0.95074456]\n",
            " [0.90098006]\n",
            " [0.74697299]\n",
            " [0.90385308]]\n"
          ]
        }
      ],
      "source": [
        "model = MNIST_MLP1(n_hl1=20)\n",
        "loss_fn = nn.CrossEntropyLoss()\n",
        "optimizer = torch.optim.Adam(model.parameters())\n",
        "batch_size = 128\n",
        "epochs = 20\n",
        "\n",
        "for i in range(epochs):\n",
        "    print(\"--- Epoch {} ---\".format(i+1))\n",
        "    epoch_loss = train_MNIST(model, X_train, y_train, loss_fn, optimizer, batch_size)\n",
        "    print(\"\\tCross-Entropy Loss (Training): {} \".format(epoch_loss))\n",
        "\n",
        "acc, f1_scr = test_MNIST(model, X_test, y_test)\n",
        "print(\"\\n\")\n",
        "print(\"Test Accuracy: {} % \".format(acc))\n",
        "print(\"Class-wise F1 score:\\n{}\".format(f1_scr.reshape(-1,1)))\n",
        "\n",
        "all_models = np.append(all_models, np.array([model, acc, f1_scr]).reshape(1,-1),axis=0)"
      ]
    },
    {
      "cell_type": "markdown",
      "id": "e67500e9",
      "metadata": {
        "id": "e67500e9"
      },
      "source": [
        "## (d) using MLP (two hidden layers)"
      ]
    },
    {
      "cell_type": "code",
      "execution_count": null,
      "id": "8b6e915c",
      "metadata": {
        "id": "8b6e915c"
      },
      "outputs": [],
      "source": [
        "class MNIST_MLP2(nn.Module):\n",
        "    def __init__(self, n_hl1, n_hl2):\n",
        "        super().__init__()\n",
        "        self.hl1 = nn.Linear(in_features=784, out_features=n_hl1)\n",
        "        self.act1 = nn.ReLU()\n",
        "        self.hl2 = nn.Linear(in_features=n_hl1, out_features=n_hl2)\n",
        "        self.act2 = nn.ReLU()\n",
        "        self.op = nn.Linear(in_features=n_hl2, out_features=10)\n",
        "        self.act3 = nn.Softmax()\n",
        "        \n",
        "    def forward(self, x):\n",
        "        x = self.hl1(x)\n",
        "        x = self.act1(x)\n",
        "        x = self.hl2(x)\n",
        "        x = self.act2(x)\n",
        "        x = self.op(x)\n",
        "        x = self.act3(x)\n",
        "        return x.squeeze()"
      ]
    },
    {
      "cell_type": "code",
      "execution_count": null,
      "id": "276f6a11",
      "metadata": {
        "id": "276f6a11",
        "outputId": "b289228f-09ac-4ca4-a84c-d4f0f83f34ce"
      },
      "outputs": [
        {
          "name": "stdout",
          "output_type": "stream",
          "text": [
            "--- Epoch 1 ---\n",
            "\tCross-Entropy Loss (Training): 796.9110097885132 \n",
            "--- Epoch 2 ---\n",
            "\tCross-Entropy Loss (Training): 687.7644183635712 \n",
            "--- Epoch 3 ---\n",
            "\tCross-Entropy Loss (Training): 673.3869677782059 \n",
            "--- Epoch 4 ---\n",
            "\tCross-Entropy Loss (Training): 668.5636459589005 \n",
            "--- Epoch 5 ---\n",
            "\tCross-Entropy Loss (Training): 665.0298997163773 \n",
            "--- Epoch 6 ---\n",
            "\tCross-Entropy Loss (Training): 664.0738822221756 \n",
            "--- Epoch 7 ---\n",
            "\tCross-Entropy Loss (Training): 662.7776255607605 \n",
            "--- Epoch 8 ---\n",
            "\tCross-Entropy Loss (Training): 662.3038963079453 \n",
            "--- Epoch 9 ---\n",
            "\tCross-Entropy Loss (Training): 661.422306895256 \n",
            "--- Epoch 10 ---\n",
            "\tCross-Entropy Loss (Training): 660.2920985221863 \n",
            "--- Epoch 11 ---\n",
            "\tCross-Entropy Loss (Training): 660.4564979076385 \n",
            "--- Epoch 12 ---\n",
            "\tCross-Entropy Loss (Training): 660.4587346315384 \n",
            "--- Epoch 13 ---\n",
            "\tCross-Entropy Loss (Training): 660.8579840660095 \n",
            "--- Epoch 14 ---\n",
            "\tCross-Entropy Loss (Training): 661.2254376411438 \n",
            "--- Epoch 15 ---\n",
            "\tCross-Entropy Loss (Training): 661.5949964523315 \n",
            "--- Epoch 16 ---\n",
            "\tCross-Entropy Loss (Training): 659.8775765895844 \n",
            "--- Epoch 17 ---\n",
            "\tCross-Entropy Loss (Training): 658.6136305332184 \n",
            "--- Epoch 18 ---\n",
            "\tCross-Entropy Loss (Training): 660.451776266098 \n",
            "--- Epoch 19 ---\n",
            "\tCross-Entropy Loss (Training): 658.4594625234604 \n",
            "--- Epoch 20 ---\n",
            "\tCross-Entropy Loss (Training): 658.4902707338333 \n",
            "\n",
            "\n",
            "Test Accuracy: 95.05 % \n",
            "Class-wise F1 score:\n",
            "[[0.96485623]\n",
            " [0.98117865]\n",
            " [0.95100458]\n",
            " [0.93722628]\n",
            " [0.9511823 ]\n",
            " [0.94054469]\n",
            " [0.96088561]\n",
            " [0.95672913]\n",
            " [0.92502716]\n",
            " [0.92967033]]\n"
          ]
        }
      ],
      "source": [
        "model = MNIST_MLP2(n_hl1=50, n_hl2=15)\n",
        "loss_fn = nn.CrossEntropyLoss()\n",
        "optimizer = torch.optim.Adam(model.parameters())\n",
        "batch_size = 128\n",
        "epochs = 20\n",
        "\n",
        "for i in range(epochs):\n",
        "    print(\"--- Epoch {} ---\".format(i+1))\n",
        "    epoch_loss = train_MNIST(model, X_train, y_train, loss_fn, optimizer, batch_size)\n",
        "    print(\"\\tCross-Entropy Loss (Training): {} \".format(epoch_loss))\n",
        "\n",
        "acc, f1_scr = test_MNIST(model, X_test, y_test)\n",
        "print(\"\\n\")\n",
        "print(\"Test Accuracy: {} % \".format(acc))\n",
        "print(\"Class-wise F1 score:\\n{}\".format(f1_scr.reshape(-1,1)))\n",
        "\n",
        "all_models = np.append(all_models, np.array([model, acc, f1_scr]).reshape(1,-1),axis=0)"
      ]
    },
    {
      "cell_type": "code",
      "execution_count": null,
      "id": "9146d6a8",
      "metadata": {
        "id": "9146d6a8",
        "outputId": "bc5b0ba7-2fb7-414b-b08c-d9c2a839773e"
      },
      "outputs": [
        {
          "name": "stdout",
          "output_type": "stream",
          "text": [
            "--- Epoch 1 ---\n",
            "\tCross-Entropy Loss (Training): 824.8926899433136 \n",
            "--- Epoch 2 ---\n",
            "\tCross-Entropy Loss (Training): 707.6177884340286 \n",
            "--- Epoch 3 ---\n",
            "\tCross-Entropy Loss (Training): 669.9658195972443 \n",
            "--- Epoch 4 ---\n",
            "\tCross-Entropy Loss (Training): 667.8973798751831 \n",
            "--- Epoch 5 ---\n",
            "\tCross-Entropy Loss (Training): 664.463975071907 \n",
            "--- Epoch 6 ---\n",
            "\tCross-Entropy Loss (Training): 663.539544582367 \n",
            "--- Epoch 7 ---\n",
            "\tCross-Entropy Loss (Training): 662.2677416801453 \n",
            "--- Epoch 8 ---\n",
            "\tCross-Entropy Loss (Training): 663.0276596546173 \n",
            "--- Epoch 9 ---\n",
            "\tCross-Entropy Loss (Training): 662.8829770088196 \n",
            "--- Epoch 10 ---\n",
            "\tCross-Entropy Loss (Training): 663.2113993167877 \n",
            "--- Epoch 11 ---\n",
            "\tCross-Entropy Loss (Training): 661.7821198701859 \n",
            "--- Epoch 12 ---\n",
            "\tCross-Entropy Loss (Training): 660.72187936306 \n",
            "--- Epoch 13 ---\n",
            "\tCross-Entropy Loss (Training): 660.4468064308167 \n",
            "--- Epoch 14 ---\n",
            "\tCross-Entropy Loss (Training): 658.7842222452164 \n",
            "--- Epoch 15 ---\n",
            "\tCross-Entropy Loss (Training): 659.9106276035309 \n",
            "--- Epoch 16 ---\n",
            "\tCross-Entropy Loss (Training): 660.405900478363 \n",
            "--- Epoch 17 ---\n",
            "\tCross-Entropy Loss (Training): 659.6307691335678 \n",
            "--- Epoch 18 ---\n",
            "\tCross-Entropy Loss (Training): 660.2753010988235 \n",
            "--- Epoch 19 ---\n",
            "\tCross-Entropy Loss (Training): 658.8393567800522 \n",
            "--- Epoch 20 ---\n",
            "\tCross-Entropy Loss (Training): 660.177742600441 \n",
            "\n",
            "\n",
            "Test Accuracy: 94.69285714285714 % \n",
            "Class-wise F1 score:\n",
            "[[0.9648678 ]\n",
            " [0.97390236]\n",
            " [0.95017544]\n",
            " [0.93920765]\n",
            " [0.92975359]\n",
            " [0.94521088]\n",
            " [0.95956284]\n",
            " [0.95542702]\n",
            " [0.92830189]\n",
            " [0.91507269]]\n"
          ]
        }
      ],
      "source": [
        "model = MNIST_MLP2(n_hl1=100, n_hl2=20)\n",
        "loss_fn = nn.CrossEntropyLoss()\n",
        "optimizer = torch.optim.Adam(model.parameters())\n",
        "batch_size = 128\n",
        "epochs = 20\n",
        "\n",
        "for i in range(epochs):\n",
        "    print(\"--- Epoch {} ---\".format(i+1))\n",
        "    epoch_loss = train_MNIST(model, X_train, y_train, loss_fn, optimizer, batch_size)\n",
        "    print(\"\\tCross-Entropy Loss (Training): {} \".format(epoch_loss))\n",
        "\n",
        "acc, f1_scr = test_MNIST(model, X_test, y_test)\n",
        "print(\"\\n\")\n",
        "print(\"Test Accuracy: {} % \".format(acc))\n",
        "print(\"Class-wise F1 score:\\n{}\".format(f1_scr.reshape(-1,1)))\n",
        "\n",
        "all_models = np.append(all_models, np.array([model, acc, f1_scr]).reshape(1,-1),axis=0)"
      ]
    },
    {
      "cell_type": "markdown",
      "id": "b2c94f75",
      "metadata": {
        "id": "b2c94f75"
      },
      "source": [
        "## Report best model"
      ]
    },
    {
      "cell_type": "code",
      "execution_count": null,
      "id": "4b61041c",
      "metadata": {
        "id": "4b61041c",
        "outputId": "2fc97935-351e-42aa-e167-6080cdcc79e8"
      },
      "outputs": [
        {
          "data": {
            "text/plain": [
              "(5, 3)"
            ]
          },
          "execution_count": 55,
          "metadata": {},
          "output_type": "execute_result"
        }
      ],
      "source": [
        "all_models.shape"
      ]
    },
    {
      "cell_type": "code",
      "execution_count": null,
      "id": "4522b8c3",
      "metadata": {
        "id": "4522b8c3",
        "outputId": "237a8167-c4e5-4004-c253-602d878945ec"
      },
      "outputs": [
        {
          "name": "stdout",
          "output_type": "stream",
          "text": [
            "Best model based on accuracy score is:\n",
            "MNIST_MLP2(\n",
            "  (hl1): Linear(in_features=784, out_features=50, bias=True)\n",
            "  (act1): ReLU()\n",
            "  (hl2): Linear(in_features=50, out_features=15, bias=True)\n",
            "  (act2): ReLU()\n",
            "  (op): Linear(in_features=15, out_features=10, bias=True)\n",
            "  (act3): Softmax(dim=None)\n",
            ")\n",
            "\n",
            "Accuracy score of best model: 95.05\n",
            "\n",
            "Class-wise F1 score of best model:\n",
            " [[0.96485623]\n",
            " [0.98117865]\n",
            " [0.95100458]\n",
            " [0.93722628]\n",
            " [0.9511823 ]\n",
            " [0.94054469]\n",
            " [0.96088561]\n",
            " [0.95672913]\n",
            " [0.92502716]\n",
            " [0.92967033]]\n"
          ]
        }
      ],
      "source": [
        "idx = np.argmax(all_models[:,1])\n",
        "print(\"Best model based on accuracy score is:\")\n",
        "print(all_models[idx,0])\n",
        "print(\"\\nAccuracy score of best model:\", all_models[idx,1])\n",
        "print(\"\\nClass-wise F1 score of best model:\\n\", all_models[idx,2])"
      ]
    },
    {
      "cell_type": "code",
      "execution_count": null,
      "id": "62e4304f",
      "metadata": {
        "id": "62e4304f",
        "outputId": "6bc4c26c-88d4-40b3-e598-7323e5b05060"
      },
      "outputs": [
        {
          "data": {
            "image/png": "[encoded data removed]",
            "text/plain": [
              "<Figure size 576x504 with 1 Axes>"
            ]
          },
          "metadata": {
            "needs_background": "light"
          },
          "output_type": "display_data"
        }
      ],
      "source": [
        "plt.figure(figsize=(8,7))\n",
        "for model in all_models:\n",
        "    #plt.plot(range(10), model[2], label=\"{:.2f}%\".format(model[1]))\n",
        "    plt.plot(range(10), model[2], label=model[0].bfloat16())\n",
        "plt.legend(loc=(1.04,0))\n",
        "plt.xlabel(\"Class\")\n",
        "plt.ylabel(\"F1-scores\")\n",
        "plt.title(\"Class-wise F1-scores\")\n",
        "plt.show()"
      ]
    },
    {
      "cell_type": "code",
      "execution_count": null,
      "id": "81578a66",
      "metadata": {
        "id": "81578a66",
        "outputId": "d9b3188c-fd0c-4232-c3ed-278354bdc556"
      },
      "outputs": [
        {
          "data": {
            "image/png": "[encoded data removed]",
            "text/plain": [
              "<Figure size 504x216 with 1 Axes>"
            ]
          },
          "metadata": {
            "needs_background": "light"
          },
          "output_type": "display_data"
        }
      ],
      "source": [
        "plt.figure(figsize=(7,3))\n",
        "for model in all_models:\n",
        "    plt.plot(range(10), model[2], label=\"{:.2f}%\".format(model[1]))\n",
        "plt.legend(loc=(1.04,0))\n",
        "plt.xlabel(\"Class\")\n",
        "plt.ylabel(\"F1-scores\")\n",
        "plt.title(\"Class-wise F1-scores\")\n",
        "plt.show()"
      ]
    },
    {
      "cell_type": "code",
      "execution_count": null,
      "id": "36b8d5d8",
      "metadata": {
        "id": "36b8d5d8"
      },
      "outputs": [],
      "source": [
        ""
      ]
    }
  ],
  "metadata": {
    "kernelspec": {
      "display_name": "Python 3 (ipykernel)",
      "language": "python",
      "name": "python3"
    },
    "language_info": {
      "codemirror_mode": {
        "name": "ipython",
        "version": 3
      },
      "file_extension": ".py",
      "mimetype": "text/x-python",
      "name": "python",
      "nbconvert_exporter": "python",
      "pygments_lexer": "ipython3",
      "version": "3.7.11"
    },
    "colab": {
      "name": "214161006_214161011_Assignment_10.ipynb",
      "provenance": [],
      "include_colab_link": true
    }
  },
  "nbformat": 4,
  "nbformat_minor": 5
}